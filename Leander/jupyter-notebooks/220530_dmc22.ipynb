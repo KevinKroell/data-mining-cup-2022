{
 "cells": [
  {
   "cell_type": "code",
   "execution_count": 1,
   "id": "e46cbfc7",
   "metadata": {},
   "outputs": [],
   "source": [
    "# import libraries\n",
    "from datetime import datetime, timedelta, date\n",
    "import pandas as pd"
   ]
  },
  {
   "cell_type": "code",
   "execution_count": 2,
   "id": "653a68dc",
   "metadata": {},
   "outputs": [],
   "source": [
    "dmc_data = pd.read_csv('D:\\Cloud\\ownCloud\\HAWCloud\\HAW Media Systems\\Kurse\\Adaptive-Systems_Artificial-Intelligence\\DMC_2022\\DMC_2022_task\\orders.csv', sep='|')"
   ]
  },
  {
   "cell_type": "code",
   "execution_count": 3,
   "id": "662ba836",
   "metadata": {},
   "outputs": [],
   "source": [
    "# split dataset into months\n",
    "\n",
    "dmc_data['date'] = pd.to_datetime(dmc_data['date'], format=\"%Y-%m-%d\")\n",
    "\n",
    "dmc_jun = dmc_data[(dmc_data.date < datetime(2020,7,1)) & (dmc_data.date >= datetime(2020,6,1))].reset_index(drop=True)\n",
    "dmc_jul = dmc_data[(dmc_data.date < datetime(2020,8,1)) & (dmc_data.date >= datetime(2020,7,1))].reset_index(drop=True)\n",
    "dmc_aug = dmc_data[(dmc_data.date < datetime(2020,9,1)) & (dmc_data.date >= datetime(2020,8,1))].reset_index(drop=True)\n",
    "dmc_sep = dmc_data[(dmc_data.date < datetime(2020,10,1)) & (dmc_data.date >= datetime(2020,9,1))].reset_index(drop=True)\n",
    "dmc_oct = dmc_data[(dmc_data.date < datetime(2020,11,1)) & (dmc_data.date >= datetime(2020,10,1))].reset_index(drop=True)\n",
    "dmc_nov = dmc_data[(dmc_data.date < datetime(2020,12,1)) & (dmc_data.date >= datetime(2020,11,1))].reset_index(drop=True)\n",
    "dmc_dec = dmc_data[(dmc_data.date < datetime(2021,1,1)) & (dmc_data.date >= datetime(2020,12,1))].reset_index(drop=True)\n",
    "dmc_jan = dmc_data[(dmc_data.date < datetime(2021,2,1)) & (dmc_data.date >= datetime(2021,1,1))].reset_index(drop=True)"
   ]
  },
  {
   "cell_type": "code",
   "execution_count": 4,
   "id": "d7d03523",
   "metadata": {},
   "outputs": [],
   "source": [
    "# function for defining the fourth of a month a purchase was made\n",
    "\n",
    "def getPartOfMonth(row):\n",
    "    daysInRegMonths = [31, 28, 31, 30, 31, 30, 31, 31, 30, 31, 30, 31]\n",
    "    dayOfDate = row.date.day\n",
    "    return dayOfDate/(daysInRegMonths[row.date.month - 1]/4) "
   ]
  },
  {
   "cell_type": "code",
   "execution_count": 5,
   "id": "32e65908",
   "metadata": {},
   "outputs": [],
   "source": [
    "# calculate for every purchase in what fourth of the month it was made\n",
    "\n",
    "tables = [dmc_jun, dmc_jul, dmc_aug, dmc_sep, dmc_oct, dmc_nov, dmc_dec, dmc_jan]\n",
    "\n",
    "for table in tables:\n",
    "    table['partOfMonth'] = table.apply(getPartOfMonth, axis=1)"
   ]
  },
  {
   "cell_type": "code",
   "execution_count": 6,
   "id": "08a64276",
   "metadata": {},
   "outputs": [],
   "source": [
    "# group by userID & item\n",
    "\n",
    "for table in tables:\n",
    "    table.groupby(['userID', 'itemID']).agg({'order':'sum', 'partOfMonth':'mean'})"
   ]
  },
  {
   "cell_type": "code",
   "execution_count": 7,
   "id": "6626f272",
   "metadata": {},
   "outputs": [],
   "source": [
    "dmc_data = pd.concat(tables)"
   ]
  },
  {
   "cell_type": "code",
   "execution_count": 8,
   "id": "6f06720c",
   "metadata": {},
   "outputs": [
    {
     "data": {
      "text/html": [
       "<div>\n",
       "<style scoped>\n",
       "    .dataframe tbody tr th:only-of-type {\n",
       "        vertical-align: middle;\n",
       "    }\n",
       "\n",
       "    .dataframe tbody tr th {\n",
       "        vertical-align: top;\n",
       "    }\n",
       "\n",
       "    .dataframe thead th {\n",
       "        text-align: right;\n",
       "    }\n",
       "</style>\n",
       "<table border=\"1\" class=\"dataframe\">\n",
       "  <thead>\n",
       "    <tr style=\"text-align: right;\">\n",
       "      <th></th>\n",
       "      <th></th>\n",
       "      <th>order</th>\n",
       "      <th>partOfMonth</th>\n",
       "    </tr>\n",
       "    <tr>\n",
       "      <th>userID</th>\n",
       "      <th>itemID</th>\n",
       "      <th></th>\n",
       "      <th></th>\n",
       "    </tr>\n",
       "  </thead>\n",
       "  <tbody>\n",
       "    <tr>\n",
       "      <th rowspan=\"5\" valign=\"top\">0</th>\n",
       "      <th>1505</th>\n",
       "      <td>1</td>\n",
       "      <td>0.133333</td>\n",
       "    </tr>\n",
       "    <tr>\n",
       "      <th>6446</th>\n",
       "      <td>2</td>\n",
       "      <td>1.677419</td>\n",
       "    </tr>\n",
       "    <tr>\n",
       "      <th>9325</th>\n",
       "      <td>1</td>\n",
       "      <td>2.666667</td>\n",
       "    </tr>\n",
       "    <tr>\n",
       "      <th>12468</th>\n",
       "      <td>1</td>\n",
       "      <td>0.387097</td>\n",
       "    </tr>\n",
       "    <tr>\n",
       "      <th>12505</th>\n",
       "      <td>1</td>\n",
       "      <td>2.322581</td>\n",
       "    </tr>\n",
       "    <tr>\n",
       "      <th>...</th>\n",
       "      <th>...</th>\n",
       "      <td>...</td>\n",
       "      <td>...</td>\n",
       "    </tr>\n",
       "    <tr>\n",
       "      <th rowspan=\"5\" valign=\"top\">46137</th>\n",
       "      <th>22403</th>\n",
       "      <td>1</td>\n",
       "      <td>2.322581</td>\n",
       "    </tr>\n",
       "    <tr>\n",
       "      <th>22583</th>\n",
       "      <td>1</td>\n",
       "      <td>4.000000</td>\n",
       "    </tr>\n",
       "    <tr>\n",
       "      <th>28343</th>\n",
       "      <td>1</td>\n",
       "      <td>1.032258</td>\n",
       "    </tr>\n",
       "    <tr>\n",
       "      <th>28900</th>\n",
       "      <td>2</td>\n",
       "      <td>1.032258</td>\n",
       "    </tr>\n",
       "    <tr>\n",
       "      <th>32292</th>\n",
       "      <td>2</td>\n",
       "      <td>1.032258</td>\n",
       "    </tr>\n",
       "  </tbody>\n",
       "</table>\n",
       "<p>896426 rows × 2 columns</p>\n",
       "</div>"
      ],
      "text/plain": [
       "               order  partOfMonth\n",
       "userID itemID                    \n",
       "0      1505        1     0.133333\n",
       "       6446        2     1.677419\n",
       "       9325        1     2.666667\n",
       "       12468       1     0.387097\n",
       "       12505       1     2.322581\n",
       "...              ...          ...\n",
       "46137  22403       1     2.322581\n",
       "       22583       1     4.000000\n",
       "       28343       1     1.032258\n",
       "       28900       2     1.032258\n",
       "       32292       2     1.032258\n",
       "\n",
       "[896426 rows x 2 columns]"
      ]
     },
     "execution_count": 8,
     "metadata": {},
     "output_type": "execute_result"
    }
   ],
   "source": [
    "dmc_data.groupby(['userID', 'itemID']).agg({'order':'sum', 'partOfMonth':'mean'})"
   ]
  },
  {
   "cell_type": "code",
   "execution_count": null,
   "id": "34034a3c",
   "metadata": {},
   "outputs": [],
   "source": [
    "    1, 2, 3, 4, 5, 6, 7, 8, 9.....\n",
    "1   0  1  0  0  1\n",
    "2\n",
    "3\n",
    "4\n"
   ]
  },
  {
   "cell_type": "code",
   "execution_count": null,
   "id": "c9e9ebb6",
   "metadata": {},
   "outputs": [],
   "source": []
  }
 ],
 "metadata": {
  "kernelspec": {
   "display_name": "Python 3 (ipykernel)",
   "language": "python",
   "name": "python3"
  },
  "language_info": {
   "codemirror_mode": {
    "name": "ipython",
    "version": 3
   },
   "file_extension": ".py",
   "mimetype": "text/x-python",
   "name": "python",
   "nbconvert_exporter": "python",
   "pygments_lexer": "ipython3",
   "version": "3.9.7"
  }
 },
 "nbformat": 4,
 "nbformat_minor": 5
}
