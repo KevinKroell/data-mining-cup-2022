{
 "cells": [
  {
   "cell_type": "code",
   "execution_count": 1,
   "id": "0751b2ca",
   "metadata": {},
   "outputs": [],
   "source": [
    "import warnings\n",
    "warnings.filterwarnings(\"ignore\")\n",
    "\n",
    "import xgboost as xgb\n",
    "from sklearn.metrics import mean_squared_error\n",
    "import pandas as pd\n",
    "import numpy as np\n",
    "from xgboost import XGBClassifier\n",
    "from sklearn.metrics import accuracy_score\n",
    "from sklearn.model_selection import train_test_split"
   ]
  },
  {
   "cell_type": "code",
   "execution_count": 2,
   "id": "639f3776",
   "metadata": {},
   "outputs": [],
   "source": [
    "# Read csv\n",
    "df_data = pd.read_csv('E:\\OneDrive\\Arbeit\\Repos\\DMC2022\\Kevin\\csv\\complete_dataset_labeled_wLastPurchaseDates.csv', sep='|')\n",
    "#df_data.head()"
   ]
  },
  {
   "cell_type": "code",
   "execution_count": null,
   "id": "e8328cf1",
   "metadata": {
    "scrolled": false
   },
   "outputs": [],
   "source": [
    "#df_data.info()"
   ]
  },
  {
   "cell_type": "code",
   "execution_count": null,
   "id": "e0e76219",
   "metadata": {},
   "outputs": [],
   "source": [
    "# Convert categories to data type category\n",
    "#df_data[\"categories\"] = df_data[\"categories\"].astype(\"category\")"
   ]
  },
  {
   "cell_type": "markdown",
   "id": "b1f51f41",
   "metadata": {},
   "source": [
    "# Preprocessing"
   ]
  },
  {
   "cell_type": "code",
   "execution_count": 3,
   "id": "e7dab4c3",
   "metadata": {},
   "outputs": [
    {
     "data": {
      "text/html": [
       "<div>\n",
       "<style scoped>\n",
       "    .dataframe tbody tr th:only-of-type {\n",
       "        vertical-align: middle;\n",
       "    }\n",
       "\n",
       "    .dataframe tbody tr th {\n",
       "        vertical-align: top;\n",
       "    }\n",
       "\n",
       "    .dataframe thead th {\n",
       "        text-align: right;\n",
       "    }\n",
       "</style>\n",
       "<table border=\"1\" class=\"dataframe\">\n",
       "  <thead>\n",
       "    <tr style=\"text-align: right;\">\n",
       "      <th></th>\n",
       "      <th>userID</th>\n",
       "      <th>itemID</th>\n",
       "      <th>brand</th>\n",
       "      <th>feature_1</th>\n",
       "      <th>feature_2</th>\n",
       "      <th>feature_3</th>\n",
       "      <th>feature_4</th>\n",
       "      <th>feature_5</th>\n",
       "      <th>categories</th>\n",
       "      <th>week</th>\n",
       "      <th>lastPurchaseDate</th>\n",
       "    </tr>\n",
       "  </thead>\n",
       "  <tbody>\n",
       "    <tr>\n",
       "      <th>0</th>\n",
       "      <td>38769</td>\n",
       "      <td>3477</td>\n",
       "      <td>186</td>\n",
       "      <td>6</td>\n",
       "      <td>0</td>\n",
       "      <td>196</td>\n",
       "      <td>0</td>\n",
       "      <td>45</td>\n",
       "      <td>[74, 4109, 3867, 803, 4053]</td>\n",
       "      <td>1</td>\n",
       "      <td>2222-03-03</td>\n",
       "    </tr>\n",
       "    <tr>\n",
       "      <th>1</th>\n",
       "      <td>42535</td>\n",
       "      <td>30474</td>\n",
       "      <td>193</td>\n",
       "      <td>10</td>\n",
       "      <td>3</td>\n",
       "      <td>229</td>\n",
       "      <td>3</td>\n",
       "      <td>132</td>\n",
       "      <td>[3459, 3738, 679, 1628, 4072]</td>\n",
       "      <td>1</td>\n",
       "      <td>2222-03-03</td>\n",
       "    </tr>\n",
       "    <tr>\n",
       "      <th>2</th>\n",
       "      <td>42535</td>\n",
       "      <td>15833</td>\n",
       "      <td>1318</td>\n",
       "      <td>4</td>\n",
       "      <td>1</td>\n",
       "      <td>455</td>\n",
       "      <td>0</td>\n",
       "      <td>108</td>\n",
       "      <td>[2973, 2907, 2749, 3357]</td>\n",
       "      <td>1</td>\n",
       "      <td>2222-03-03</td>\n",
       "    </tr>\n",
       "    <tr>\n",
       "      <th>3</th>\n",
       "      <td>42535</td>\n",
       "      <td>20131</td>\n",
       "      <td>347</td>\n",
       "      <td>4</td>\n",
       "      <td>0</td>\n",
       "      <td>291</td>\n",
       "      <td>3</td>\n",
       "      <td>44</td>\n",
       "      <td>[30, 1515, 1760, 2932, 1287, 2615, 3727, 2450,...</td>\n",
       "      <td>1</td>\n",
       "      <td>2222-03-03</td>\n",
       "    </tr>\n",
       "    <tr>\n",
       "      <th>4</th>\n",
       "      <td>42535</td>\n",
       "      <td>4325</td>\n",
       "      <td>539</td>\n",
       "      <td>6</td>\n",
       "      <td>0</td>\n",
       "      <td>303</td>\n",
       "      <td>0</td>\n",
       "      <td>45</td>\n",
       "      <td>[3104, 1772, 2029, 1274, 3915, 888, 1118, 3882...</td>\n",
       "      <td>1</td>\n",
       "      <td>2222-03-03</td>\n",
       "    </tr>\n",
       "  </tbody>\n",
       "</table>\n",
       "</div>"
      ],
      "text/plain": [
       "   userID  itemID  brand  feature_1  feature_2  feature_3  feature_4  \\\n",
       "0   38769    3477    186          6          0        196          0   \n",
       "1   42535   30474    193         10          3        229          3   \n",
       "2   42535   15833   1318          4          1        455          0   \n",
       "3   42535   20131    347          4          0        291          3   \n",
       "4   42535    4325    539          6          0        303          0   \n",
       "\n",
       "   feature_5                                         categories  week  \\\n",
       "0         45                        [74, 4109, 3867, 803, 4053]     1   \n",
       "1        132                      [3459, 3738, 679, 1628, 4072]     1   \n",
       "2        108                           [2973, 2907, 2749, 3357]     1   \n",
       "3         44  [30, 1515, 1760, 2932, 1287, 2615, 3727, 2450,...     1   \n",
       "4         45  [3104, 1772, 2029, 1274, 3915, 888, 1118, 3882...     1   \n",
       "\n",
       "  lastPurchaseDate  \n",
       "0       2222-03-03  \n",
       "1       2222-03-03  \n",
       "2       2222-03-03  \n",
       "3       2222-03-03  \n",
       "4       2222-03-03  "
      ]
     },
     "execution_count": 3,
     "metadata": {},
     "output_type": "execute_result"
    }
   ],
   "source": [
    "# Drop columns\n",
    "df_data.drop('Unnamed: 0', axis=1, inplace=True)\n",
    "df_data.drop('purchaseDates', axis=1, inplace=True)\n",
    "df_data.drop('date', axis=1, inplace=True)\n",
    "df_data.drop('order', axis=1, inplace=True)\n",
    "\n",
    "df_data.head()"
   ]
  },
  {
   "cell_type": "markdown",
   "id": "f320456d",
   "metadata": {},
   "source": [
    "### Split datetime into separate columns"
   ]
  },
  {
   "cell_type": "code",
   "execution_count": 4,
   "id": "3a4e2f0c",
   "metadata": {},
   "outputs": [],
   "source": [
    "# Convert 'lastPurchaseDate' to datetime\n",
    "df_data['lastPurchaseDate'] = pd.to_datetime(df_data['lastPurchaseDate'], format=\"%Y-%m-%d\")\n",
    "\n",
    "# Split 'date' into seperate columns\n",
    "df_data['day'] = df_data['lastPurchaseDate'].dt.day\n",
    "df_data['month'] = df_data['lastPurchaseDate'].dt.month\n",
    "df_data['year'] = df_data['lastPurchaseDate'].dt.year\n",
    "\n",
    "df_data.drop('lastPurchaseDate', axis=1, inplace=True)"
   ]
  },
  {
   "cell_type": "code",
   "execution_count": null,
   "id": "eaef2e35",
   "metadata": {},
   "outputs": [],
   "source": [
    "\"\"\"\n",
    "# Move new columns to the front\n",
    "col = df_data.pop(\"year\")\n",
    "df_data.insert(1, col.name, col)\n",
    "\n",
    "col = df_data.pop(\"month\")\n",
    "df_data.insert(2, col.name, col)\n",
    "\n",
    "col = df_data.pop(\"day\")\n",
    "df_data.insert(3, col.name, col)\n",
    "\"\"\""
   ]
  },
  {
   "cell_type": "code",
   "execution_count": null,
   "id": "061cd6ca",
   "metadata": {},
   "outputs": [],
   "source": [
    "# Show table\n",
    "#df_data.head()"
   ]
  },
  {
   "cell_type": "markdown",
   "id": "0707e656",
   "metadata": {},
   "source": [
    "### Multi-Hot-Encoding for categories"
   ]
  },
  {
   "cell_type": "code",
   "execution_count": null,
   "id": "0bb1c8a1",
   "metadata": {},
   "outputs": [],
   "source": [
    "# If you run out of memory while encoding the whole dataframe at once you can \n",
    "# split the dataframe into chunks beforehand \n",
    "\n",
    "df_data_chunk1 = df_data.iloc[:50000,:]\n",
    "#df_chunk2 = df.iloc[500000:,:]\n",
    "\n",
    "# Replace symbols in 'categories'\n",
    "df_data_chunk1['categories'] = df_data_chunk1['categories'].str.replace(\"[\", \"\")\n",
    "df_data_chunk1['categories'] = df_data_chunk1['categories'].str.replace(\"]\", \"\")"
   ]
  },
  {
   "cell_type": "code",
   "execution_count": null,
   "id": "74eca40f",
   "metadata": {},
   "outputs": [],
   "source": [
    "df_data_chunk1.head()"
   ]
  },
  {
   "cell_type": "code",
   "execution_count": null,
   "id": "b085e760",
   "metadata": {
    "scrolled": true
   },
   "outputs": [],
   "source": [
    "# WARNING: This Cell takes a couple of minutes to compute; ~50GB RAM needed to compute without chunks\n",
    "\n",
    "# Convert categorical variable into dummy/indicator variables\n",
    "df_multi_hot = df_data_chunk1[\"categories\"].str.get_dummies(',')\n",
    "df_multi_hot"
   ]
  },
  {
   "cell_type": "code",
   "execution_count": null,
   "id": "fb87a56b",
   "metadata": {
    "scrolled": false
   },
   "outputs": [],
   "source": [
    "# Combine df_data and df_multi_hot\n",
    "#pd.merge(df_data_chunk1, df_multi_hot, how='inner', left_index=True, right_index=True)\n",
    "df_combined = df_data_chunk1.join(df_multi_hot, how='inner')\n",
    "\n",
    "# delete df_multi_hot to free up RAM\n",
    "#del df_multi_hot"
   ]
  },
  {
   "cell_type": "code",
   "execution_count": null,
   "id": "d69b32e5",
   "metadata": {},
   "outputs": [],
   "source": [
    "#df_combined.info()"
   ]
  },
  {
   "cell_type": "code",
   "execution_count": null,
   "id": "22f769b7",
   "metadata": {},
   "outputs": [],
   "source": [
    "df_combined.head()"
   ]
  },
  {
   "cell_type": "code",
   "execution_count": null,
   "id": "a053b2a3",
   "metadata": {},
   "outputs": [],
   "source": [
    "#df_combined_chunk1 = df_combined.iloc[:500000,:]\n",
    "col = df_combined.pop(\"week\")\n",
    "df_combined.insert(3542, col.name, col)\n",
    "\n",
    "#df_combined_chunk2 = df_combined.iloc[500000:,:]"
   ]
  },
  {
   "cell_type": "code",
   "execution_count": null,
   "id": "8284fae8",
   "metadata": {},
   "outputs": [],
   "source": [
    "df_combined.head()"
   ]
  },
  {
   "cell_type": "code",
   "execution_count": null,
   "id": "6259a0db",
   "metadata": {
    "scrolled": true
   },
   "outputs": [],
   "source": [
    "# Check if we have any missing values\n",
    "df_combined[df_combined.isnull().any(axis=1)]"
   ]
  },
  {
   "cell_type": "code",
   "execution_count": null,
   "id": "f03e2c81",
   "metadata": {
    "scrolled": false
   },
   "outputs": [],
   "source": [
    "\"\"\"\n",
    "For Testing purposes\n",
    "\n",
    "# Read csv\n",
    "df_cat = pd.read_csv('E:\\OneDrive\\Arbeit\\Repos\\DMC2022\\Kevin\\csv\\complete_dataset_cleaned_labeled.csv', sep='|')\n",
    "df_cat[\"categories\"] = df_cat[\"categories\"].astype(\"string\")\n",
    "\n",
    "df_cat.drop('Unnamed: 0', axis=1, inplace=True)\n",
    "df_cat.drop('date', axis=1, inplace=True)\n",
    "df_cat.drop('userID', axis=1, inplace=True)\n",
    "df_cat.drop('itemID', axis=1, inplace=True)\n",
    "df_cat.drop('order', axis=1, inplace=True)\n",
    "df_cat.drop('brand', axis=1, inplace=True)\n",
    "df_cat.drop('feature_1', axis=1, inplace=True)\n",
    "df_cat.drop('feature_2', axis=1, inplace=True)\n",
    "df_cat.drop('feature_3', axis=1, inplace=True)\n",
    "df_cat.drop('feature_4', axis=1, inplace=True)\n",
    "df_cat.drop('feature_5', axis=1, inplace=True)\n",
    "df_cat.drop('week', axis=1, inplace=True)\n",
    "\n",
    "df_cat = df_cat.head(3)\n",
    "df_cat\n",
    "\"\"\""
   ]
  },
  {
   "cell_type": "markdown",
   "id": "befd56a9",
   "metadata": {},
   "source": [
    "### Datatypes for XGBoost"
   ]
  },
  {
   "cell_type": "markdown",
   "id": "ed484f6f",
   "metadata": {},
   "source": [
    "XGBoost natively supports continuous data but not categorical data. In order to use categorical data with XGBoost, we have to use One-Hot-Encoding which converts a column of categorical values into muliple columns of binary values."
   ]
  },
  {
   "cell_type": "markdown",
   "id": "eb8e6f8b",
   "metadata": {},
   "source": [
    "# Modeling"
   ]
  },
  {
   "cell_type": "code",
   "execution_count": null,
   "id": "adc99fe9",
   "metadata": {},
   "outputs": [],
   "source": [
    "df_combined.head()"
   ]
  },
  {
   "cell_type": "code",
   "execution_count": null,
   "id": "52addcd1",
   "metadata": {
    "scrolled": true
   },
   "outputs": [],
   "source": [
    "df_combined.drop('categories', axis=1, inplace=True)"
   ]
  },
  {
   "cell_type": "code",
   "execution_count": null,
   "id": "f3dae2de",
   "metadata": {},
   "outputs": [],
   "source": [
    "df_combined.head()"
   ]
  },
  {
   "cell_type": "code",
   "execution_count": null,
   "id": "159825cb",
   "metadata": {
    "scrolled": true
   },
   "outputs": [],
   "source": [
    "# Comma is being used to extract a specific column from a 2D array.\n",
    "# X = data.iloc[:,:-1]\n",
    "# X = all rows, all columns except the last one \n",
    "\n",
    "X = df_combined.iloc[:,0:-1]\n",
    "X"
   ]
  },
  {
   "cell_type": "code",
   "execution_count": null,
   "id": "8a24a6d9",
   "metadata": {
    "scrolled": true
   },
   "outputs": [],
   "source": [
    "y = df_combined.iloc[:,-1]\n",
    "y"
   ]
  },
  {
   "cell_type": "code",
   "execution_count": null,
   "id": "e2a5d222",
   "metadata": {},
   "outputs": [],
   "source": [
    "# Split training and test data\n",
    "X_train, X_test, y_train, y_test = train_test_split(X, y, test_size=0.2, random_state=123)"
   ]
  },
  {
   "cell_type": "code",
   "execution_count": null,
   "id": "7d951bf7",
   "metadata": {
    "scrolled": true
   },
   "outputs": [],
   "source": [
    "data_dmatrix = xgb.DMatrix(data=X, label=y)"
   ]
  },
  {
   "cell_type": "code",
   "execution_count": null,
   "id": "d8cdc248",
   "metadata": {
    "scrolled": true
   },
   "outputs": [],
   "source": [
    "model1 = XGBClassifier()\n",
    "model1.fit(X_train, y_train)"
   ]
  },
  {
   "cell_type": "code",
   "execution_count": null,
   "id": "c6133426",
   "metadata": {
    "scrolled": false
   },
   "outputs": [],
   "source": [
    "model1.score(X_train,y_train), model1.score(X_test,y_test)"
   ]
  },
  {
   "cell_type": "code",
   "execution_count": null,
   "id": "52d88623",
   "metadata": {
    "scrolled": true
   },
   "outputs": [],
   "source": [
    "model = XGBClassifier(learning_rate=0.1)\n",
    "model.fit(X_train, y_train)"
   ]
  },
  {
   "cell_type": "code",
   "execution_count": null,
   "id": "ec87734b",
   "metadata": {},
   "outputs": [],
   "source": [
    "model.score(X_train,y_train), model.score(X_test,y_test)"
   ]
  },
  {
   "cell_type": "code",
   "execution_count": null,
   "id": "1bd0c018",
   "metadata": {},
   "outputs": [],
   "source": [
    "# make predictions for test data\n",
    "y_pred = model.predict(X_test)\n",
    "predictions = [round(value) for value in y_pred]\n",
    "\n",
    "# evaluate predictions\n",
    "accuracy = accuracy_score(y_test, predictions)\n",
    "print(\"Accuracy: %.2f%%\" % (accuracy * 100.0))"
   ]
  },
  {
   "cell_type": "code",
   "execution_count": null,
   "id": "bc781365",
   "metadata": {
    "scrolled": true
   },
   "outputs": [],
   "source": [
    "#model = XGBClassifier(tree_method='gpu_hist', gpu_id=0)\n",
    "#model.fit(X_train, y_train)"
   ]
  },
  {
   "cell_type": "code",
   "execution_count": null,
   "id": "73535f7a",
   "metadata": {},
   "outputs": [],
   "source": [
    "#xg_reg = xgb.XGBRegressor(objective ='reg:linear', colsample_bytree = 0.3, learning_rate = 0.1,\n",
    "#                max_depth = 5, alpha = 10, n_estimators = 10)"
   ]
  },
  {
   "cell_type": "code",
   "execution_count": null,
   "id": "4d464697",
   "metadata": {},
   "outputs": [],
   "source": [
    "#xg_reg.fit(X_train,y_train)\n",
    "\n",
    "#preds = xg_reg.predict(X_test)"
   ]
  },
  {
   "cell_type": "code",
   "execution_count": null,
   "id": "ec899b4f",
   "metadata": {},
   "outputs": [],
   "source": [
    "# Je größer der RMSE ist, desto schlechter ist die Anpassung des Modells.\n",
    "#rmse = np.sqrt(mean_squared_error(y_test, preds))\n",
    "#print(\"RMSE: %f\" % (rmse))"
   ]
  },
  {
   "cell_type": "code",
   "execution_count": null,
   "id": "5f1937a3",
   "metadata": {},
   "outputs": [],
   "source": [
    "#!conda list"
   ]
  },
  {
   "cell_type": "code",
   "execution_count": null,
   "id": "72e67134",
   "metadata": {},
   "outputs": [],
   "source": []
  }
 ],
 "metadata": {
  "kernelspec": {
   "display_name": "Python 3 (ipykernel)",
   "language": "python",
   "name": "python3"
  },
  "language_info": {
   "codemirror_mode": {
    "name": "ipython",
    "version": 3
   },
   "file_extension": ".py",
   "mimetype": "text/x-python",
   "name": "python",
   "nbconvert_exporter": "python",
   "pygments_lexer": "ipython3",
   "version": "3.9.12"
  }
 },
 "nbformat": 4,
 "nbformat_minor": 5
}
