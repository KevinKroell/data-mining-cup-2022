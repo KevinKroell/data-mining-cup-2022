{
 "cells": [
  {
   "cell_type": "code",
   "execution_count": 9,
   "id": "272907ad",
   "metadata": {},
   "outputs": [
    {
     "data": {
      "text/html": [
       "<div>\n",
       "<style scoped>\n",
       "    .dataframe tbody tr th:only-of-type {\n",
       "        vertical-align: middle;\n",
       "    }\n",
       "\n",
       "    .dataframe tbody tr th {\n",
       "        vertical-align: top;\n",
       "    }\n",
       "\n",
       "    .dataframe thead th {\n",
       "        text-align: right;\n",
       "    }\n",
       "</style>\n",
       "<table border=\"1\" class=\"dataframe\">\n",
       "  <thead>\n",
       "    <tr style=\"text-align: right;\">\n",
       "      <th></th>\n",
       "      <th>categories</th>\n",
       "    </tr>\n",
       "  </thead>\n",
       "  <tbody>\n",
       "    <tr>\n",
       "      <th>0</th>\n",
       "      <td>[Restaurants, Ramen, Japanese]</td>\n",
       "    </tr>\n",
       "    <tr>\n",
       "      <th>1</th>\n",
       "      <td>[Chinese, Seafood, Restaurants]</td>\n",
       "    </tr>\n",
       "  </tbody>\n",
       "</table>\n",
       "</div>"
      ],
      "text/plain": [
       "                        categories\n",
       "0   [Restaurants, Ramen, Japanese]\n",
       "1  [Chinese, Seafood, Restaurants]"
      ]
     },
     "execution_count": 9,
     "metadata": {},
     "output_type": "execute_result"
    }
   ],
   "source": [
    "df.head()"
   ]
  },
  {
   "cell_type": "code",
   "execution_count": 8,
   "id": "6689cca3",
   "metadata": {},
   "outputs": [
    {
     "data": {
      "text/html": [
       "<div>\n",
       "<style scoped>\n",
       "    .dataframe tbody tr th:only-of-type {\n",
       "        vertical-align: middle;\n",
       "    }\n",
       "\n",
       "    .dataframe tbody tr th {\n",
       "        vertical-align: top;\n",
       "    }\n",
       "\n",
       "    .dataframe thead th {\n",
       "        text-align: right;\n",
       "    }\n",
       "</style>\n",
       "<table border=\"1\" class=\"dataframe\">\n",
       "  <thead>\n",
       "    <tr style=\"text-align: right;\">\n",
       "      <th></th>\n",
       "      <th>Chinese</th>\n",
       "      <th>Japanese</th>\n",
       "      <th>Ramen</th>\n",
       "      <th>Restaurants</th>\n",
       "      <th>Seafood</th>\n",
       "    </tr>\n",
       "  </thead>\n",
       "  <tbody>\n",
       "    <tr>\n",
       "      <th>0</th>\n",
       "      <td>0</td>\n",
       "      <td>1</td>\n",
       "      <td>1</td>\n",
       "      <td>1</td>\n",
       "      <td>0</td>\n",
       "    </tr>\n",
       "    <tr>\n",
       "      <th>1</th>\n",
       "      <td>1</td>\n",
       "      <td>0</td>\n",
       "      <td>0</td>\n",
       "      <td>1</td>\n",
       "      <td>1</td>\n",
       "    </tr>\n",
       "  </tbody>\n",
       "</table>\n",
       "</div>"
      ],
      "text/plain": [
       "   Chinese  Japanese  Ramen  Restaurants  Seafood\n",
       "0        0         1      1            1        0\n",
       "1        1         0      0            1        1"
      ]
     },
     "execution_count": 8,
     "metadata": {},
     "output_type": "execute_result"
    }
   ],
   "source": [
    "df=pd.DataFrame( {'categories':[['Restaurants', 'Ramen', 'Japanese'],['Chinese', 'Seafood', 'Restaurants']]})\n",
    "\n",
    "pd.get_dummies(df.categories.apply(pd.Series).stack()).sum(level=0)"
   ]
  },
  {
   "cell_type": "code",
   "execution_count": 1,
   "id": "0751b2ca",
   "metadata": {},
   "outputs": [],
   "source": [
    "import warnings\n",
    "warnings.filterwarnings(\"ignore\")\n",
    "\n",
    "import xgboost as xgb\n",
    "from sklearn.metrics import mean_squared_error\n",
    "import pandas as pd\n",
    "import numpy as np\n",
    "from xgboost import XGBClassifier\n",
    "from sklearn.metrics import accuracy_score\n",
    "from sklearn.model_selection import train_test_split\n",
    "from scipy import sparse"
   ]
  },
  {
   "cell_type": "code",
   "execution_count": 2,
   "id": "639f3776",
   "metadata": {},
   "outputs": [],
   "source": [
    "# Read csv\n",
    "df_data = pd.read_csv('E:\\OneDrive\\Arbeit\\Repos\\DMC2022\\Kevin\\csv\\complete_dataset_labeled_wLastPurchaseDates.csv', sep='|')\n",
    "#df_data.head()"
   ]
  },
  {
   "cell_type": "code",
   "execution_count": null,
   "id": "653069e0",
   "metadata": {},
   "outputs": [],
   "source": [
    "# Convert string to list\n",
    "df_data_chunk1[\"categories\"] = df_data_chunk1[\"categories\"].apply(lambda x: [int(i) for i in x.split(',')])"
   ]
  },
  {
   "cell_type": "code",
   "execution_count": null,
   "id": "e8328cf1",
   "metadata": {
    "scrolled": false
   },
   "outputs": [],
   "source": [
    "#df_data.info()"
   ]
  },
  {
   "cell_type": "code",
   "execution_count": null,
   "id": "e0e76219",
   "metadata": {},
   "outputs": [],
   "source": [
    "# Convert categories to data type category\n",
    "#df_data[\"categories\"] = df_data[\"categories\"].astype(\"category\")"
   ]
  },
  {
   "cell_type": "code",
   "execution_count": null,
   "id": "882335f3",
   "metadata": {},
   "outputs": [],
   "source": []
  },
  {
   "cell_type": "markdown",
   "id": "b1f51f41",
   "metadata": {},
   "source": [
    "# Preprocessing"
   ]
  },
  {
   "cell_type": "code",
   "execution_count": null,
   "id": "e7dab4c3",
   "metadata": {
    "scrolled": true
   },
   "outputs": [],
   "source": [
    "# Drop columns\n",
    "#df_data.drop('Unnamed: 0', axis=1, inplace=True)\n",
    "#df_data.drop('purchaseDates', axis=1, inplace=True)\n",
    "#df_data.drop('date', axis=1, inplace=True)\n",
    "#df_data.drop('order', axis=1, inplace=True)\n",
    "\n",
    "#df_data.head()"
   ]
  },
  {
   "cell_type": "markdown",
   "id": "f320456d",
   "metadata": {},
   "source": [
    "### Split datetime into separate columns"
   ]
  },
  {
   "cell_type": "code",
   "execution_count": null,
   "id": "3a4e2f0c",
   "metadata": {},
   "outputs": [],
   "source": [
    "# Convert 'lastPurchaseDate' to datetime\n",
    "df_data['lastPurchaseDate'] = pd.to_datetime(df_data['lastPurchaseDate'], format=\"%Y-%m-%d\")\n",
    "\n",
    "# Split 'date' into seperate columns\n",
    "df_data['day'] = df_data['lastPurchaseDate'].dt.day\n",
    "df_data['month'] = df_data['lastPurchaseDate'].dt.month\n",
    "df_data['year'] = df_data['lastPurchaseDate'].dt.year\n",
    "\n",
    "df_data.drop('lastPurchaseDate', axis=1, inplace=True)"
   ]
  },
  {
   "cell_type": "code",
   "execution_count": null,
   "id": "eaef2e35",
   "metadata": {},
   "outputs": [],
   "source": [
    "\"\"\"\n",
    "# Move new columns to the front\n",
    "col = df_data.pop(\"year\")\n",
    "df_data.insert(1, col.name, col)\n",
    "\n",
    "col = df_data.pop(\"month\")\n",
    "df_data.insert(2, col.name, col)\n",
    "\n",
    "col = df_data.pop(\"day\")\n",
    "df_data.insert(3, col.name, col)\n",
    "\"\"\""
   ]
  },
  {
   "cell_type": "code",
   "execution_count": null,
   "id": "061cd6ca",
   "metadata": {},
   "outputs": [],
   "source": [
    "# Show table\n",
    "#df_data.head()"
   ]
  },
  {
   "cell_type": "markdown",
   "id": "0707e656",
   "metadata": {},
   "source": [
    "### Multi-Hot-Encoding for categories"
   ]
  },
  {
   "cell_type": "code",
   "execution_count": null,
   "id": "0bb1c8a1",
   "metadata": {},
   "outputs": [],
   "source": [
    "# If you run out of memory while encoding the whole dataframe at once you can \n",
    "# split the dataframe into chunks beforehand \n",
    "\n",
    "#df_data_chunk1 = df_data.iloc[:50000,:]\n",
    "#df_data_chunk1 = df_data.sample(250000)\n",
    "#df_data_chunk2 = df_data.sample(150000)\n",
    "#df_chunk2 = df.iloc[500000:,:]\n",
    "\n",
    "# Replace symbols in 'categories'\n",
    "#df_data_chunk1['categories'] = df_data_chunk1['categories'].str.replace(\"[\", \"\")\n",
    "#df_data_chunk1['categories'] = df_data_chunk1['categories'].str.replace(\"]\", \"\")"
   ]
  },
  {
   "cell_type": "code",
   "execution_count": 4,
   "id": "9c89654e",
   "metadata": {},
   "outputs": [],
   "source": [
    "df_data_chunk2 = df_data.iloc[:945849,:]\n",
    "\n",
    "# Convert 'lastPurchaseDate' to datetime\n",
    "df_data_chunk2['date'] = pd.to_datetime(df_data['date'], format=\"%Y-%m-%d\")\n",
    "\n",
    "# Split 'date' into seperate columns\n",
    "df_data_chunk2['day'] = df_data_chunk2['date'].dt.day\n",
    "df_data_chunk2['month'] = df_data_chunk2['date'].dt.month\n",
    "df_data_chunk2['year'] = df_data_chunk2['date'].dt.year\n",
    "\n",
    "df_data_chunk2.drop('date', axis=1, inplace=True)"
   ]
  },
  {
   "cell_type": "code",
   "execution_count": 5,
   "id": "ddfa630a",
   "metadata": {},
   "outputs": [],
   "source": [
    "# Move new columns to the front\n",
    "col = df_data_chunk2.pop(\"year\")\n",
    "df_data_chunk2.insert(1, col.name, col)\n",
    "\n",
    "col = df_data_chunk2.pop(\"month\")\n",
    "df_data_chunk2.insert(2, col.name, col)\n",
    "\n",
    "col = df_data_chunk2.pop(\"day\")\n",
    "df_data_chunk2.insert(3, col.name, col)"
   ]
  },
  {
   "cell_type": "code",
   "execution_count": 7,
   "id": "4be9a3ab",
   "metadata": {},
   "outputs": [],
   "source": [
    "df_data_chunk2.drop('Unnamed: 0', axis=1, inplace=True)\n",
    "#df_data_chunk2.drop('date', axis=1, inplace=True)\n",
    "df_data_chunk2.drop('order', axis=1, inplace=True)\n",
    "df_data_chunk2.drop('purchaseDates', axis=1, inplace=True)\n",
    "df_data_chunk2.drop('lastPurchaseDate', axis=1, inplace=True)"
   ]
  },
  {
   "cell_type": "code",
   "execution_count": null,
   "id": "4e41666e",
   "metadata": {},
   "outputs": [],
   "source": [
    "df_data_chunk2['categories'] = df_data_chunk2['categories'].str.replace(\"[\", \"\")\n",
    "df_data_chunk2['categories'] = df_data_chunk2['categories'].str.replace(\"]\", \"\")\n",
    "df_multi_hot = df_data_chunk2[\"categories\"].str.get_dummies(',')\n",
    "df_combined2 = df_data_chunk2.join(df_multi_hot, how='inner')\n",
    "col = df_combined2.pop(\"week\")\n",
    "df_combined2.insert(len(df_combined2.columns) , col.name, col)"
   ]
  },
  {
   "cell_type": "code",
   "execution_count": null,
   "id": "771d8e47",
   "metadata": {},
   "outputs": [],
   "source": [
    "del train_test_split"
   ]
  },
  {
   "cell_type": "code",
   "execution_count": null,
   "id": "24d82419",
   "metadata": {
    "scrolled": true
   },
   "outputs": [],
   "source": [
    "df_combined2.info()"
   ]
  },
  {
   "cell_type": "code",
   "execution_count": null,
   "id": "8759a859",
   "metadata": {},
   "outputs": [],
   "source": [
    "del df_multi_hot"
   ]
  },
  {
   "cell_type": "code",
   "execution_count": null,
   "id": "761b6632",
   "metadata": {},
   "outputs": [],
   "source": [
    "import gc \n",
    "gc.collect()"
   ]
  },
  {
   "cell_type": "code",
   "execution_count": null,
   "id": "817016dd",
   "metadata": {
    "scrolled": true
   },
   "outputs": [],
   "source": [
    "df_combined2.drop('categories', axis=1, inplace=True)\n"
   ]
  },
  {
   "cell_type": "code",
   "execution_count": null,
   "id": "608635b4",
   "metadata": {},
   "outputs": [],
   "source": [
    "df_combined2.head()"
   ]
  },
  {
   "cell_type": "code",
   "execution_count": null,
   "id": "a69af824",
   "metadata": {},
   "outputs": [],
   "source": [
    "sdf = df_combined2.astype(pd.SparseDtype(\"float\", np.nan))"
   ]
  },
  {
   "cell_type": "code",
   "execution_count": null,
   "id": "5e947744",
   "metadata": {},
   "outputs": [],
   "source": [
    "df_combined2.replace(0, np.nan).to_sparse()"
   ]
  },
  {
   "cell_type": "code",
   "execution_count": null,
   "id": "2af7a948",
   "metadata": {
    "scrolled": false
   },
   "outputs": [],
   "source": [
    "sparse_matrix = sparse.csr_matrix(df_combined2)"
   ]
  },
  {
   "cell_type": "code",
   "execution_count": null,
   "id": "3997012e",
   "metadata": {},
   "outputs": [],
   "source": [
    "df123 = pd.DataFrame.sparse.from_spmatrix(sparse_matrix, index=None, columns=None)\n",
    "df123.info()"
   ]
  },
  {
   "cell_type": "code",
   "execution_count": null,
   "id": "253c0719",
   "metadata": {},
   "outputs": [],
   "source": [
    "df_combined2.head()"
   ]
  },
  {
   "cell_type": "code",
   "execution_count": null,
   "id": "a41645da",
   "metadata": {},
   "outputs": [],
   "source": [
    "X_train"
   ]
  },
  {
   "cell_type": "code",
   "execution_count": null,
   "id": "9031919f",
   "metadata": {
    "scrolled": false
   },
   "outputs": [],
   "source": [
    "X = df_combined2.iloc[:,0:-1]\n",
    "y = df_combined2.iloc[:,-1]\n",
    "\n",
    "X_train, X_test, y_train, y_test = train_test_split(X, y, test_size=0.2, random_state=0, stratify=y)\n",
    "#data_dmatrix = xgb.DMatrix(data=X, label=y)"
   ]
  },
  {
   "cell_type": "code",
   "execution_count": null,
   "id": "e1035e1f",
   "metadata": {},
   "outputs": [],
   "source": [
    "params = {\n",
    "        \"eval_metric\": \"logloss\",\n",
    "    }\n",
    "\n",
    "model1 = XGBClassifier(params)\n",
    "model1.fit(X_train, y_train)"
   ]
  },
  {
   "cell_type": "code",
   "execution_count": null,
   "id": "23abfdc7",
   "metadata": {},
   "outputs": [],
   "source": [
    "#prediction for XGBoost\n",
    "y_pred = model1.predict(X_test)#Accuracy\n",
    "from sklearn import metrics\n",
    "print('Accuracy Score:', metrics.accuracy_score(y_test,y_pred))"
   ]
  },
  {
   "cell_type": "code",
   "execution_count": null,
   "id": "8320eee0",
   "metadata": {},
   "outputs": [],
   "source": [
    "y_test = list(y_test)\n",
    "y_pred = list(y_pred)"
   ]
  },
  {
   "cell_type": "code",
   "execution_count": null,
   "id": "e3c6d474",
   "metadata": {
    "scrolled": false
   },
   "outputs": [],
   "source": [
    "for i in range(len(y_test)):\n",
    "    print(y_test[i],y_pred[i])"
   ]
  },
  {
   "cell_type": "code",
   "execution_count": null,
   "id": "dfe557b8",
   "metadata": {},
   "outputs": [],
   "source": [
    "from sklearn.metrics import confusion_matrix\n",
    "cm = confusion_matrix(y_test, y_pred)\n",
    "cm"
   ]
  },
  {
   "cell_type": "code",
   "execution_count": null,
   "id": "1edce2ea",
   "metadata": {},
   "outputs": [],
   "source": [
    "1434+107+120+129+173"
   ]
  },
  {
   "cell_type": "code",
   "execution_count": null,
   "id": "6b076c46",
   "metadata": {},
   "outputs": [],
   "source": [
    "model1.score(X_train,y_train), model1.score(X_test,y_test)"
   ]
  },
  {
   "cell_type": "code",
   "execution_count": null,
   "id": "85acb6e1",
   "metadata": {},
   "outputs": [],
   "source": [
    "model1.score(X_train,y_train), model1.score(X_test,y_test)"
   ]
  },
  {
   "cell_type": "code",
   "execution_count": null,
   "id": "6b2be281",
   "metadata": {},
   "outputs": [],
   "source": [
    "model1.score(X_train,y_train), model1.score(X_test,y_test)"
   ]
  },
  {
   "cell_type": "code",
   "execution_count": null,
   "id": "74eca40f",
   "metadata": {},
   "outputs": [],
   "source": [
    "df_data_chunk1.head(20)"
   ]
  },
  {
   "cell_type": "code",
   "execution_count": null,
   "id": "b085e760",
   "metadata": {
    "scrolled": true
   },
   "outputs": [],
   "source": [
    "# WARNING: This Cell takes a couple of minutes to compute; ~50GB RAM needed to compute without chunks\n",
    "\n",
    "# Convert categorical variable into dummy/indicator variables\n",
    "df_multi_hot = df_data_chunk1[\"categories\"].str.get_dummies(',')\n",
    "df_multi_hot"
   ]
  },
  {
   "cell_type": "code",
   "execution_count": null,
   "id": "fb87a56b",
   "metadata": {
    "scrolled": false
   },
   "outputs": [],
   "source": [
    "# Combine df_data and df_multi_hot\n",
    "#pd.merge(df_data_chunk1, df_multi_hot, how='inner', left_index=True, right_index=True)\n",
    "df_combined = df_data_chunk1.join(df_multi_hot, how='inner')\n",
    "\n",
    "# delete df_multi_hot to free up RAM\n",
    "#del df_multi_hot"
   ]
  },
  {
   "cell_type": "code",
   "execution_count": null,
   "id": "d69b32e5",
   "metadata": {},
   "outputs": [],
   "source": [
    "df_combined.info()"
   ]
  },
  {
   "cell_type": "code",
   "execution_count": null,
   "id": "22f769b7",
   "metadata": {},
   "outputs": [],
   "source": [
    "df_combined.head()"
   ]
  },
  {
   "cell_type": "code",
   "execution_count": null,
   "id": "a053b2a3",
   "metadata": {},
   "outputs": [],
   "source": [
    "#df_combined_chunk1 = df_combined.iloc[:500000,:]\n",
    "col = df_combined.pop(\"week\")\n",
    "df_combined.insert(len(df_combined.columns) , col.name, col)\n",
    "\n",
    "#df_combined_chunk2 = df_combined.iloc[500000:,:]"
   ]
  },
  {
   "cell_type": "code",
   "execution_count": null,
   "id": "8284fae8",
   "metadata": {},
   "outputs": [],
   "source": [
    "df_combined.head()"
   ]
  },
  {
   "cell_type": "code",
   "execution_count": null,
   "id": "6259a0db",
   "metadata": {
    "scrolled": true
   },
   "outputs": [],
   "source": [
    "# Check if we have any missing values\n",
    "df_combined[df_combined.isnull().any(axis=1)]"
   ]
  },
  {
   "cell_type": "markdown",
   "id": "befd56a9",
   "metadata": {},
   "source": [
    "### Datatypes for XGBoost"
   ]
  },
  {
   "cell_type": "markdown",
   "id": "ed484f6f",
   "metadata": {},
   "source": [
    "XGBoost natively supports continuous data but not categorical data. In order to use categorical data with XGBoost, we have to use One-Hot-Encoding which converts a column of categorical values into muliple columns of binary values."
   ]
  },
  {
   "cell_type": "markdown",
   "id": "eb8e6f8b",
   "metadata": {},
   "source": [
    "# Modeling"
   ]
  },
  {
   "cell_type": "code",
   "execution_count": null,
   "id": "d93fcc73",
   "metadata": {},
   "outputs": [],
   "source": []
  },
  {
   "cell_type": "code",
   "execution_count": null,
   "id": "fb84e84f",
   "metadata": {},
   "outputs": [],
   "source": [
    "df_combined.head()"
   ]
  },
  {
   "cell_type": "code",
   "execution_count": null,
   "id": "52addcd1",
   "metadata": {},
   "outputs": [],
   "source": [
    "df_combined.drop('categories', axis=1, inplace=True)\n",
    "df_combined.drop('lastPurchaseDate', axis=1, inplace=True)\n",
    "df_combined.drop('Unique count(date)', axis=1, inplace=True)\n",
    "#df_combined.drop('year', axis=1, inplace=True)\n",
    "#df_combined.drop('month', axis=1, inplace=True)\n",
    "#df_combined.drop('day', axis=1, inplace=True)"
   ]
  },
  {
   "cell_type": "code",
   "execution_count": null,
   "id": "f3dae2de",
   "metadata": {},
   "outputs": [],
   "source": [
    "df_combined.head()"
   ]
  },
  {
   "cell_type": "code",
   "execution_count": null,
   "id": "159825cb",
   "metadata": {
    "scrolled": true
   },
   "outputs": [],
   "source": [
    "# Comma is being used to extract a specific column from a 2D array.\n",
    "# X = data.iloc[:,:-1]\n",
    "# X = all rows, all columns except the last one \n",
    "\n",
    "X = df_combined.iloc[:,0:-1]\n",
    "X"
   ]
  },
  {
   "cell_type": "code",
   "execution_count": null,
   "id": "8a24a6d9",
   "metadata": {
    "scrolled": true
   },
   "outputs": [],
   "source": [
    "y = df_combined.iloc[:,-1]\n",
    "y"
   ]
  },
  {
   "cell_type": "code",
   "execution_count": null,
   "id": "e2a5d222",
   "metadata": {},
   "outputs": [],
   "source": [
    "# Split training and test data\n",
    "X_train, X_test, y_train, y_test = train_test_split(X, y, test_size=0.2, random_state=0)"
   ]
  },
  {
   "cell_type": "code",
   "execution_count": null,
   "id": "789f9d15",
   "metadata": {
    "scrolled": true
   },
   "outputs": [],
   "source": [
    "X_train"
   ]
  },
  {
   "cell_type": "code",
   "execution_count": null,
   "id": "d2b6b44c",
   "metadata": {},
   "outputs": [],
   "source": [
    "X_test"
   ]
  },
  {
   "cell_type": "code",
   "execution_count": null,
   "id": "7d951bf7",
   "metadata": {
    "scrolled": true
   },
   "outputs": [],
   "source": [
    "data_dmatrix = xgb.DMatrix(data=X, label=y)"
   ]
  },
  {
   "cell_type": "code",
   "execution_count": null,
   "id": "d8cdc248",
   "metadata": {
    "scrolled": true
   },
   "outputs": [],
   "source": [
    "\n",
    "model1 = XGBClassifier(eval_metric='logloss')\n",
    "model1.fit(X_train, y_train)"
   ]
  },
  {
   "cell_type": "code",
   "execution_count": null,
   "id": "9a74ae24",
   "metadata": {},
   "outputs": [],
   "source": []
  },
  {
   "cell_type": "code",
   "execution_count": null,
   "id": "c6133426",
   "metadata": {
    "scrolled": true
   },
   "outputs": [],
   "source": [
    "model1.score(X_train,y_train), model1.score(X_test,y_test)"
   ]
  },
  {
   "cell_type": "code",
   "execution_count": null,
   "id": "f18315b9",
   "metadata": {},
   "outputs": [],
   "source": [
    "from sklearn.metrics import roc_auc_score, roc_curve\n",
    "\n"
   ]
  },
  {
   "cell_type": "code",
   "execution_count": null,
   "id": "6df9f4dd",
   "metadata": {},
   "outputs": [],
   "source": [
    "#prediction for XGBoost\n",
    "y_pred2 = model1.predict(X_test)#Accuracy\n",
    "from sklearn import metrics\n",
    "print('Accuracy Score:', metrics.accuracy_score(y_test,y_pred2))"
   ]
  },
  {
   "cell_type": "code",
   "execution_count": null,
   "id": "a2506b78",
   "metadata": {
    "scrolled": true
   },
   "outputs": [],
   "source": [
    "model2_250k = XGBClassifier()\n",
    "model2_250k.fit(X_train, y_train)"
   ]
  },
  {
   "cell_type": "code",
   "execution_count": null,
   "id": "42ccae4d",
   "metadata": {
    "scrolled": false
   },
   "outputs": [],
   "source": [
    "model2_250k.score(X_train,y_train), model2_250k.score(X_test,y_test)"
   ]
  },
  {
   "cell_type": "code",
   "execution_count": null,
   "id": "90e43040",
   "metadata": {},
   "outputs": [],
   "source": [
    "#prediction for XGBoost\n",
    "y_pred2 = model1.predict(X_test)#Accuracy\n",
    "from sklearn import metrics\n",
    "print('Accuracy Score:', metrics.accuracy_score(y_test,y_pred2))"
   ]
  },
  {
   "cell_type": "markdown",
   "id": "cf1f14b2",
   "metadata": {},
   "source": [
    "# Decision Tree"
   ]
  },
  {
   "cell_type": "code",
   "execution_count": null,
   "id": "df5bfc5d",
   "metadata": {},
   "outputs": [],
   "source": [
    "from sklearn.tree import DecisionTreeClassifier\n",
    "classifier = DecisionTreeClassifier()\n",
    "classifier = classifier.fit(X_train,y_train)"
   ]
  },
  {
   "cell_type": "code",
   "execution_count": null,
   "id": "6fc05dfc",
   "metadata": {},
   "outputs": [],
   "source": [
    "#prediction for decision tree\n",
    "y_pred1 = classifier.predict(X_test)#Accuracy\n",
    "from sklearn import metrics\n",
    "print('Accuracy Score:', metrics.accuracy_score(y_test,y_pred1))"
   ]
  },
  {
   "cell_type": "code",
   "execution_count": null,
   "id": "ae7fd3d1",
   "metadata": {},
   "outputs": [],
   "source": [
    "from sklearn.metrics import confusion_matrix\n",
    "cm = confusion_matrix(y_test, y_pred1)\n",
    "cm"
   ]
  },
  {
   "cell_type": "code",
   "execution_count": null,
   "id": "987efef3",
   "metadata": {},
   "outputs": [],
   "source": [
    "from sklearn.metrics import confusion_matrix\n",
    "cm = confusion_matrix(y_test, y_pred2)\n",
    "cm"
   ]
  },
  {
   "cell_type": "code",
   "execution_count": null,
   "id": "1bd0c018",
   "metadata": {},
   "outputs": [],
   "source": [
    "# make predictions for test data\n",
    "y_pred = model1.predict(X_test)\n",
    "predictions = [round(value) for value in y_pred]\n",
    "\n",
    "# evaluate predictions\n",
    "accuracy = accuracy_score(y_test, predictions)\n",
    "print(\"Accuracy: %.2f%%\" % (accuracy * 100.0))"
   ]
  },
  {
   "cell_type": "code",
   "execution_count": null,
   "id": "52d88623",
   "metadata": {
    "scrolled": true
   },
   "outputs": [],
   "source": [
    "model = XGBClassifier(learning_rate=0.1)\n",
    "model.fit(X_train, y_train)"
   ]
  },
  {
   "cell_type": "code",
   "execution_count": null,
   "id": "ec87734b",
   "metadata": {},
   "outputs": [],
   "source": [
    "model.score(X_train,y_train), model.score(X_test,y_test)"
   ]
  },
  {
   "cell_type": "code",
   "execution_count": null,
   "id": "bc781365",
   "metadata": {
    "scrolled": true
   },
   "outputs": [],
   "source": [
    "#model = XGBClassifier(tree_method='gpu_hist', gpu_id=0)\n",
    "#model.fit(X_train, y_train)"
   ]
  },
  {
   "cell_type": "code",
   "execution_count": null,
   "id": "73535f7a",
   "metadata": {},
   "outputs": [],
   "source": [
    "#xg_reg = xgb.XGBRegressor(objective ='reg:linear', colsample_bytree = 0.3, learning_rate = 0.1,\n",
    "#                max_depth = 5, alpha = 10, n_estimators = 10)"
   ]
  },
  {
   "cell_type": "code",
   "execution_count": null,
   "id": "4d464697",
   "metadata": {},
   "outputs": [],
   "source": [
    "#xg_reg.fit(X_train,y_train)\n",
    "\n",
    "#preds = xg_reg.predict(X_test)"
   ]
  },
  {
   "cell_type": "code",
   "execution_count": null,
   "id": "ec899b4f",
   "metadata": {},
   "outputs": [],
   "source": [
    "# Je größer der RMSE ist, desto schlechter ist die Anpassung des Modells.\n",
    "#rmse = np.sqrt(mean_squared_error(y_test, preds))\n",
    "#print(\"RMSE: %f\" % (rmse))"
   ]
  },
  {
   "cell_type": "code",
   "execution_count": null,
   "id": "5f1937a3",
   "metadata": {},
   "outputs": [],
   "source": [
    "#!conda list"
   ]
  },
  {
   "cell_type": "code",
   "execution_count": null,
   "id": "72e67134",
   "metadata": {},
   "outputs": [],
   "source": []
  }
 ],
 "metadata": {
  "kernelspec": {
   "display_name": "Python 3 (ipykernel)",
   "language": "python",
   "name": "python3"
  },
  "language_info": {
   "codemirror_mode": {
    "name": "ipython",
    "version": 3
   },
   "file_extension": ".py",
   "mimetype": "text/x-python",
   "name": "python",
   "nbconvert_exporter": "python",
   "pygments_lexer": "ipython3",
   "version": "3.9.12"
  }
 },
 "nbformat": 4,
 "nbformat_minor": 5
}
