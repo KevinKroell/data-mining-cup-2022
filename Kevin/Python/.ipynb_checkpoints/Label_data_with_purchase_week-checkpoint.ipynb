{
 "cells": [
  {
   "cell_type": "code",
   "execution_count": 1,
   "id": "e46cbfc7",
   "metadata": {},
   "outputs": [],
   "source": [
    "# import libraries\n",
    "from datetime import datetime, timedelta, date\n",
    "import pandas as pd\n",
    "import numpy as np\n",
    "pd.set_option('display.max_rows', 1000)\n",
    "pd.set_option('display.min_rows', 1000)"
   ]
  },
  {
   "cell_type": "markdown",
   "id": "f88ee9e3",
   "metadata": {},
   "source": [
    "## PartOfMonth Purchases Item – Mean & StdD"
   ]
  },
  {
   "cell_type": "code",
   "execution_count": 7,
   "id": "653a68dc",
   "metadata": {},
   "outputs": [],
   "source": [
    "#Read csv\n",
    "dmc_data = pd.read_csv('E:\\OneDrive\\Arbeit\\Repos\\DMC2022\\Kevin\\csv\\complete_value_list_for_processing__order-history.csv', sep=',')"
   ]
  },
  {
   "cell_type": "code",
   "execution_count": null,
   "id": "3ec32f90",
   "metadata": {},
   "outputs": [],
   "source": [
    "dmc_data.head()"
   ]
  },
  {
   "cell_type": "code",
   "execution_count": null,
   "id": "7852431e",
   "metadata": {},
   "outputs": [],
   "source": [
    "# Convert 'date' column to datetime format\n",
    "dmc_data['date'] = pd.to_datetime(dmc_data['date'], format=\"%Y-%m-%d\")\n",
    "dmc_data.dtypes"
   ]
  },
  {
   "cell_type": "code",
   "execution_count": null,
   "id": "ce48c332",
   "metadata": {},
   "outputs": [],
   "source": [
    "# Add column 'week'\n",
    "dmc_data['week'] = ''\n",
    "dmc_data.head()"
   ]
  },
  {
   "cell_type": "code",
   "execution_count": null,
   "id": "079a10ec",
   "metadata": {},
   "outputs": [],
   "source": [
    "# Add entries for 'week' based on dates\n",
    "\n",
    "#06 Jun\n",
    "dmc_data.loc[(dmc_data['date'] >= datetime(2020,6,1)) & (dmc_data['date'] <= datetime(2020,6,7)), ['week']] = 1\n",
    "dmc_data.loc[(dmc_data['date'] >= datetime(2020,6,8)) & (dmc_data['date'] <= datetime(2020,6,14)), ['week']] = 2\n",
    "dmc_data.loc[(dmc_data['date'] >= datetime(2020,6,15)) & (dmc_data['date'] <= datetime(2020,6,21)), ['week']] = 3\n",
    "dmc_data.loc[(dmc_data['date'] >= datetime(2020,6,22)) & (dmc_data['date'] <= datetime(2020,6,30)), ['week']] = 4\n",
    "\n",
    "#07 Jul\n",
    "dmc_data.loc[(dmc_data['date'] >= datetime(2020,7,1)) & (dmc_data['date'] <= datetime(2020,7,5)), ['week']] = 1\n",
    "dmc_data.loc[(dmc_data['date'] >= datetime(2020,7,8)) & (dmc_data['date'] <= datetime(2020,7,14)), ['week']] = 2\n",
    "dmc_data.loc[(dmc_data['date'] >= datetime(2020,7,15)) & (dmc_data['date'] <= datetime(2020,7,21)), ['week']] = 3\n",
    "dmc_data.loc[(dmc_data['date'] >= datetime(2020,7,22)) & (dmc_data['date'] <= datetime(2020,7,31)), ['week']] = 4\n",
    "\n",
    "#08 Aug\n",
    "dmc_data.loc[(dmc_data['date'] >= datetime(2020,8,1)) & (dmc_data['date'] <= datetime(2020,8,7)), ['week']] = 1\n",
    "dmc_data.loc[(dmc_data['date'] >= datetime(2020,8,8)) & (dmc_data['date'] <= datetime(2020,8,14)), ['week']] = 2\n",
    "dmc_data.loc[(dmc_data['date'] >= datetime(2020,8,15)) & (dmc_data['date'] <= datetime(2020,8,21)), ['week']] = 3\n",
    "dmc_data.loc[(dmc_data['date'] >= datetime(2020,8,22)) & (dmc_data['date'] <= datetime(2020,8,31)), ['week']] = 4\n",
    "\n",
    "#09 Sep\n",
    "dmc_data.loc[(dmc_data['date'] >= datetime(2020,9,1)) & (dmc_data['date'] <= datetime(2020,9,7)), ['week']] = 1\n",
    "dmc_data.loc[(dmc_data['date'] >= datetime(2020,9,8)) & (dmc_data['date'] <= datetime(2020,9,14)), ['week']] = 2\n",
    "dmc_data.loc[(dmc_data['date'] >= datetime(2020,9,15)) & (dmc_data['date'] <= datetime(2020,9,21)), ['week']] = 3\n",
    "dmc_data.loc[(dmc_data['date'] >= datetime(2020,9,22)) & (dmc_data['date'] <= datetime(2020,9,30)), ['week']] = 4\n",
    "\n",
    "#10 Oct\n",
    "dmc_data.loc[(dmc_data['date'] >= datetime(2020,10,1)) & (dmc_data['date'] <= datetime(2020,10,7)), ['week']] = 1\n",
    "dmc_data.loc[(dmc_data['date'] >= datetime(2020,10,8)) & (dmc_data['date'] <= datetime(2020,10,14)), ['week']] = 2\n",
    "dmc_data.loc[(dmc_data['date'] >= datetime(2020,10,15)) & (dmc_data['date'] <= datetime(2020,10,21)), ['week']] = 3\n",
    "dmc_data.loc[(dmc_data['date'] >= datetime(2020,10,22)) & (dmc_data['date'] <= datetime(2020,10,31)), ['week']] = 4\n",
    "\n",
    "#11 Nov\n",
    "dmc_data.loc[(dmc_data['date'] >= datetime(2020,11,1)) & (dmc_data['date'] <= datetime(2020,11,7)), ['week']] = 1\n",
    "dmc_data.loc[(dmc_data['date'] >= datetime(2020,11,8)) & (dmc_data['date'] <= datetime(2020,11,14)), ['week']] = 2\n",
    "dmc_data.loc[(dmc_data['date'] >= datetime(2020,11,15)) & (dmc_data['date'] <= datetime(2020,11,21)), ['week']] = 3\n",
    "dmc_data.loc[(dmc_data['date'] >= datetime(2020,11,22)) & (dmc_data['date'] <= datetime(2020,11,30)), ['week']] = 4\n",
    "\n",
    "#12 Dec\n",
    "dmc_data.loc[(dmc_data['date'] >= datetime(2020,12,1)) & (dmc_data['date'] <= datetime(2020,12,7)), ['week']] = 1\n",
    "dmc_data.loc[(dmc_data['date'] >= datetime(2020,12,8)) & (dmc_data['date'] <= datetime(2020,12,14)), ['week']] = 2\n",
    "dmc_data.loc[(dmc_data['date'] >= datetime(2020,12,15)) & (dmc_data['date'] <= datetime(2020,12,21)), ['week']] = 3\n",
    "dmc_data.loc[(dmc_data['date'] >= datetime(2020,12,22)) & (dmc_data['date'] <= datetime(2020,12,31)), ['week']] = 4\n",
    "\n",
    "#01 Jan\n",
    "dmc_data.loc[(dmc_data['date'] >= datetime(2021,1,1)) & (dmc_data['date'] <= datetime(2021,1,7)), ['week']] = 1\n",
    "dmc_data.loc[(dmc_data['date'] >= datetime(2021,1,8)) & (dmc_data['date'] <= datetime(2021,1,14)), ['week']] = 2\n",
    "dmc_data.loc[(dmc_data['date'] >= datetime(2021,1,15)) & (dmc_data['date'] <= datetime(2021,1,21)), ['week']] = 3\n",
    "dmc_data.loc[(dmc_data['date'] >= datetime(2021,1,22)) & (dmc_data['date'] <= datetime(2021,1,31)), ['week']] = 4"
   ]
  },
  {
   "cell_type": "code",
   "execution_count": null,
   "id": "67cbf931",
   "metadata": {},
   "outputs": [],
   "source": [
    "# Show all entries that were bought in the second week of the month\n",
    "dmc_data.loc[dmc_data['week'] == 2]"
   ]
  },
  {
   "cell_type": "code",
   "execution_count": null,
   "id": "10b27184",
   "metadata": {},
   "outputs": [],
   "source": [
    "# Write to csv\n",
    "dmc_data.to_csv('dataset_labeled', sep='|', encoding='utf-8')"
   ]
  },
  {
   "cell_type": "code",
   "execution_count": null,
   "id": "4aabc2af",
   "metadata": {},
   "outputs": [],
   "source": []
  }
 ],
 "metadata": {
  "kernelspec": {
   "display_name": "Python 3 (ipykernel)",
   "language": "python",
   "name": "python3"
  },
  "language_info": {
   "codemirror_mode": {
    "name": "ipython",
    "version": 3
   },
   "file_extension": ".py",
   "mimetype": "text/x-python",
   "name": "python",
   "nbconvert_exporter": "python",
   "pygments_lexer": "ipython3",
   "version": "3.9.12"
  }
 },
 "nbformat": 4,
 "nbformat_minor": 5
}
