{
 "cells": [
  {
   "cell_type": "markdown",
   "id": "fe6e8b87",
   "metadata": {},
   "source": [
    "# XGBoost on GPU, no categories, with dates, including \"onetimers\"\n",
    "## Predicting the time difference to the next repurchase"
   ]
  },
  {
   "cell_type": "markdown",
   "id": "b01cce02",
   "metadata": {},
   "source": [
    "### Methods & Settings"
   ]
  },
  {
   "cell_type": "code",
   "execution_count": 53,
   "id": "6c992df5",
   "metadata": {},
   "outputs": [
    {
     "data": {
      "text/html": [
       "<style>.container { width:75% !important; }</style>"
      ],
      "text/plain": [
       "<IPython.core.display.HTML object>"
      ]
     },
     "metadata": {},
     "output_type": "display_data"
    }
   ],
   "source": [
    "import warnings\n",
    "warnings.filterwarnings(\"ignore\")\n",
    "\n",
    "import pandas as pd\n",
    "import numpy as np\n",
    "import scipy as sc\n",
    "import matplotlib.pyplot as plt\n",
    "import gc\n",
    "import joblib\n",
    "\n",
    "import xgboost as xgb\n",
    "from xgboost import XGBClassifier\n",
    "from xgboost import XGBRegressor\n",
    "\n",
    "\n",
    "from sklearn.preprocessing import MultiLabelBinarizer\n",
    "from sklearn.metrics import mean_squared_error\n",
    "from sklearn.metrics import accuracy_score\n",
    "from sklearn.metrics import precision_score\n",
    "from sklearn.metrics import balanced_accuracy_score\n",
    "from sklearn.model_selection import train_test_split\n",
    "from sklearn.metrics import roc_auc_score\n",
    "from sklearn.metrics import mean_squared_error\n",
    "from sklearn.tree import DecisionTreeRegressor\n",
    "\n",
    "from IPython.core.display import display, HTML\n",
    "display(HTML(\"<style>.container { width:75% !important; }</style>\"))\n",
    "\n",
    "pd.set_option('display.max_rows', 250)\n",
    "pd.set_option('display.min_rows', 25)\n",
    "\n",
    "####\n",
    "# prints memory usage\n",
    "def show_mem_usage(df):\n",
    "    start_mem = df.memory_usage().sum() / 1024**2\n",
    "    print('Memory usage of dataframe is {:.2f} MB\\n'.format(start_mem))\n",
    "    return\n",
    "\n",
    "####\n",
    "# seperates features from label (y must be last column)\n",
    "def sep_X_y(df_train, df_test):\n",
    "    X_train = df_train.iloc[:,0:-1] # extracts all rows [:] and columns from 0 to next-to-last [0:-1]\n",
    "    y_train = df_train.iloc[:,-1] # extracts all rows [:] and only last column [-1]\n",
    "    X_test = df_test.iloc[:,0:-1]\n",
    "    y_test = df_test.iloc[:,-1]\n",
    "    \n",
    "    return [X_train, y_train, X_test, y_test]\n",
    "\n",
    "####\n",
    "# split training and test set from given dataframe with dates as boundaries\n",
    "def dt_train_test_split(df, dt_start_train, dt_end_train, dt_start_test, dt_end_test):\n",
    "    print('Splitting dataframe...\\n')\n",
    "    # get indices from desired boundaries\n",
    "    idx_start_train = df.date.searchsorted(pd.to_datetime(dt_start_train), side='left') # list needs to be sorted already for searchsorted\n",
    "    idx_end_train = df.date.searchsorted(pd.to_datetime(dt_end_train) + pd.Timedelta(days=1), side='left')\n",
    "    idx_start_test = df.date.searchsorted(pd.to_datetime(dt_start_test), side='left')\n",
    "    idx_end_test = df.date.searchsorted(pd.to_datetime(dt_end_test) + pd.Timedelta(days=1), side='left')\n",
    "    \n",
    "    train = df.iloc[idx_start_train:idx_end_train]\n",
    "    test = df.iloc[idx_start_test:idx_end_test]\n",
    "    \n",
    "    train.drop(columns=['date'], axis=0, inplace=True)\n",
    "    test.drop(columns=['date'], axis=0, inplace=True)\n",
    "    \n",
    "    return sep_X_y(train, test)\n",
    "\n",
    "####\n",
    "# trains XGB model (classifier)\n",
    "def train_xgb(X, y):\n",
    "    X_train = X\n",
    "    y_train = y\n",
    "    \n",
    "    \n",
    "    \n",
    "    print('Fitting model...\\n')\n",
    "    model = XGBRegressor(tree_method='gpu_hist', gpu_id=0)\n",
    "    fitted_model = model.fit(X_train, y_train)\n",
    "    \n",
    "    print('Plotting feature importance for \"gain\". Do not rely on that.\\n')\n",
    "    print('https://towardsdatascience.com/interpretable-machine-learning-with-xgboost-9ec80d148d27\\n')\n",
    "    xgb.plot_importance(model, importance_type='gain')\n",
    "    plt.show()\n",
    "    \n",
    "    # GRAPHVIZ (software + pip package) needed for tree plotting\n",
    "    #fig, ax = plt.subplots(figsize=(30, 30))\n",
    "    #xgb.plot_tree(model, num_trees=0, ax=ax, rankdir='LR')\n",
    "    #plt.show()\n",
    "    \n",
    "    return fitted_model\n",
    "\n",
    "def train_xgb_bestHyper(X, y):\n",
    "    X_train = X\n",
    "    y_train = y\n",
    "    space = best_hyperparams\n",
    "    \n",
    "    print('Fitting model...\\n')\n",
    "    model = XGBRegressor(tree_method='gpu_hist', gpu_id=0,\n",
    "                    eta = space['eta'],\n",
    "                    max_depth = int(space['max_depth']), \n",
    "                    gamma = space['gamma'],\n",
    "                    reg_alpha = int(space['reg_alpha']),\n",
    "                    min_child_weight=int(space['min_child_weight']),\n",
    "                    colsample_bytree=int(space['colsample_bytree']))\n",
    "\n",
    "    \n",
    "    \n",
    "    evaluation = [( X_train, y_train), ( X_test, y_test)]\n",
    "    \n",
    "    fitted_model.fit(X_train, y_train,\n",
    "            eval_set=evaluation, eval_metric=\"rmse\",\n",
    "            early_stopping_rounds=10,verbose=False)\n",
    "    \n",
    "    print('Plotting feature importance for \"gain\". Do not rely on that.\\n')\n",
    "    print('https://towardsdatascience.com/interpretable-machine-learning-with-xgboost-9ec80d148d27\\n')\n",
    "    xgb.plot_importance(model, importance_type='gain')\n",
    "    plt.show()\n",
    "    \n",
    "    # GRAPHVIZ (software + pip package) needed for tree plotting\n",
    "    #fig, ax = plt.subplots(figsize=(30, 30))\n",
    "    #xgb.plot_tree(model, num_trees=0, ax=ax, rankdir='LR')\n",
    "    #plt.show()\n",
    "    \n",
    "    return fitted_model\n",
    "\n",
    "def train_dtc(X, y):\n",
    "    X_train = X\n",
    "    y_train = y\n",
    "    \n",
    "    print('Fitting model...\\n')\n",
    "    model = DecisionTreeRegressor()\n",
    "    fitted_model = model.fit(X_train, y_train)\n",
    "    \n",
    "    print('Plotting feature importance for \"gain\". Do not rely on that.\\n')\n",
    "    print('https://towardsdatascience.com/interpretable-machine-learning-with-xgboost-9ec80d148d27\\n')\n",
    "    #xgb.plot_importance(model, importance_type='gain')\n",
    "    #plt.show()\n",
    "    \n",
    "    # GRAPHVIZ (software + pip package) needed for tree plotting\n",
    "    #fig, ax = plt.subplots(figsize=(30, 30))\n",
    "    #xgb.plot_tree(model, num_trees=0, ax=ax, rankdir='LR')\n",
    "    #plt.show()\n",
    "    \n",
    "    return fitted_model\n",
    "\n",
    "####\n",
    "# predicts labels of training and test with given model\n",
    "def predict_values(model, X_train, y_train, X_test, y_test):\n",
    "    print('Predicting values...\\n')\n",
    "    # predict y values\n",
    "    y_train_pred = model.predict(X_train)\n",
    "    y_test_pred = model.predict(X_test)\n",
    "\n",
    "    \n",
    "    # get accuracies\n",
    "    model_train = mean_squared_error(y_train, y_train_pred)\n",
    "    model_test = mean_squared_error(y_test, y_test_pred)\n",
    "    \n",
    "    \n",
    "    \"\"\"\n",
    "    #get precision\n",
    "    model_train_precision = precision_score(y_train, y_train_pred, average)\n",
    "    model_test_precision = precision_score(y_test, y_test_pred)\n",
    "    \"\"\"\n",
    "    # print info about accuracies\n",
    "    print(f'\\n XGboost train/test accuracies: '\n",
    "         f'{model_train:.3f}/{model_test:.3f}')\n",
    "    \n",
    "    # return predicted values\n",
    "    return [y_train_pred, y_test_pred]\n",
    "\n",
    "####\n",
    "# concatenates prediction with actual target for evaluation\n",
    "def evaluate_pred(X, y, y_pred):\n",
    "    # create dataframe from test-prediction with index from X_test\n",
    "    df_y_pred = pd.DataFrame(y_pred, columns=['nextBuyIn_pred'], index=X.index, dtype=np.int8)\n",
    "\n",
    "    # concatenate X, y, y_pred (put columns next to each other)\n",
    "    df_eval = pd.concat([X, y, df_y_pred], axis=1)\n",
    "    \n",
    "    return df_eval\n",
    "\n",
    "####\n",
    "# executes all needed functions of the above with given training and test data and provided train method\n",
    "def execute_pipeline(train_method, df, list_of_four_df_boundaries):\n",
    "    b = list_of_four_df_boundaries\n",
    "    # split dataframe in train/test and X/y\n",
    "    X_train, y_train, X_test, y_test = dt_train_test_split(df, b[0], b[1], b[2], b[3])\n",
    "    \n",
    "    #train model\n",
    "    model = train_method(X_train, y_train)    \n",
    "    \n",
    "    # make predictions\n",
    "    pred_train, pred_test = predict_values(model, X_train, y_train, X_test, y_test)\n",
    "    \n",
    "    print('\\nExecuted pipeline.\\nEvaluate with \"evaluate_pred(X, y, y_pred)\"\\n')\n",
    "    return [pred_train, pred_test, X_train, y_train, X_test, y_test]"
   ]
  },
  {
   "cell_type": "code",
   "execution_count": 2,
   "id": "639f3776",
   "metadata": {
    "scrolled": false
   },
   "outputs": [],
   "source": [
    "file = r'E:\\OneDrive\\Arbeit\\Repos\\DMC2022\\Kevin\\csv\\09_orders_noItemsNotOrdered_evalCats_diffToNxtPurch.csv'\n",
    "\n",
    "columns = ['date',\n",
    "           'userID', \n",
    "           'itemID',\n",
    "           'nextBuyInDays',\n",
    "           'nextBuyInWeeks',\n",
    "           'order', \n",
    "           'brand', \n",
    "           'feature_1', \n",
    "           'feature_2', \n",
    "           'feature_3', \n",
    "           'feature_4', \n",
    "           'feature_5'\n",
    "          ]\n",
    "\n",
    "dtype = {'userID':np.uint32,\n",
    "         'itemID':np.uint32,\n",
    "         'nextBuyInDays':np.uint16,\n",
    "         'nextBuyInWeeks':np.uint8,\n",
    "         'order':np.uint8,\n",
    "         'brand':np.int16,\n",
    "         'feature_1':np.int8,\n",
    "         'feature_2':np.uint8,\n",
    "         'feature_3':np.int16,\n",
    "         'feature_4':np.int8,\n",
    "         'feature_5':np.int16}"
   ]
  },
  {
   "cell_type": "markdown",
   "id": "3a7e4b1d",
   "metadata": {},
   "source": [
    "---"
   ]
  },
  {
   "cell_type": "markdown",
   "id": "334934bd",
   "metadata": {},
   "source": [
    "# Predicting Days"
   ]
  },
  {
   "cell_type": "markdown",
   "id": "746956c9",
   "metadata": {},
   "source": [
    "## Preparation"
   ]
  },
  {
   "cell_type": "code",
   "execution_count": 3,
   "id": "5f724795",
   "metadata": {},
   "outputs": [
    {
     "name": "stdout",
     "output_type": "stream",
     "text": [
      "Memory usage of dataframe is 29.64 MB\n",
      "\n"
     ]
    }
   ],
   "source": [
    "df = pd.read_csv(file, usecols=columns, sep='|', dtype=dtype, nrows=None, converters={'date':pd.to_datetime})\n",
    "show_mem_usage(df)"
   ]
  },
  {
   "cell_type": "markdown",
   "id": "433021ea",
   "metadata": {},
   "source": [
    "Creating additional time related features out of 'date' column."
   ]
  },
  {
   "cell_type": "code",
   "execution_count": 4,
   "id": "bb9d12c7",
   "metadata": {},
   "outputs": [],
   "source": [
    "df['year'] = df['date'].dt.year\n",
    "df['month'] = df['date'].dt.month\n",
    "df['weekOfYear'] = df['date'].dt.weekofyear"
   ]
  },
  {
   "cell_type": "markdown",
   "id": "d18d3e2d",
   "metadata": {},
   "source": [
    "Drop the label that is NOT needed. Then append label column at end."
   ]
  },
  {
   "cell_type": "code",
   "execution_count": 5,
   "id": "79a860f4",
   "metadata": {
    "scrolled": true
   },
   "outputs": [],
   "source": [
    "df.drop(columns=['nextBuyInWeeks'], axis=0, inplace=True)\n",
    "col = df.pop(\"nextBuyInDays\") # target variable\n",
    "df.insert(len(df.columns), col.name, col)"
   ]
  },
  {
   "cell_type": "markdown",
   "id": "1cd8d398",
   "metadata": {},
   "source": [
    "## Training & Prediction"
   ]
  },
  {
   "cell_type": "markdown",
   "id": "ff3854c2",
   "metadata": {},
   "source": [
    "---"
   ]
  },
  {
   "cell_type": "markdown",
   "id": "ead5d543",
   "metadata": {},
   "source": [
    "---"
   ]
  },
  {
   "cell_type": "markdown",
   "id": "ae906709",
   "metadata": {},
   "source": [
    "# Predicting Weeks"
   ]
  },
  {
   "cell_type": "markdown",
   "id": "33b34ddc",
   "metadata": {},
   "source": [
    "## Preparation"
   ]
  },
  {
   "cell_type": "code",
   "execution_count": 6,
   "id": "2adc0c42",
   "metadata": {},
   "outputs": [
    {
     "name": "stdout",
     "output_type": "stream",
     "text": [
      "Memory usage of dataframe is 29.64 MB\n",
      "\n"
     ]
    }
   ],
   "source": [
    "df = pd.read_csv(file, usecols=columns, sep='|', dtype=dtype, nrows=None, converters={'date':pd.to_datetime})\n",
    "show_mem_usage(df)"
   ]
  },
  {
   "cell_type": "markdown",
   "id": "640932f8",
   "metadata": {},
   "source": [
    "Creating additional time related features out of 'date' column."
   ]
  },
  {
   "cell_type": "code",
   "execution_count": 7,
   "id": "55db9470",
   "metadata": {},
   "outputs": [],
   "source": [
    "df['year'] = df['date'].dt.year\n",
    "df['month'] = df['date'].dt.month\n",
    "df['weekOfYear'] = df['date'].dt.weekofyear"
   ]
  },
  {
   "cell_type": "markdown",
   "id": "91d81fae",
   "metadata": {},
   "source": [
    "Drop the label that is NOT needed. Then append label column at end."
   ]
  },
  {
   "cell_type": "code",
   "execution_count": 8,
   "id": "e6dbef1c",
   "metadata": {
    "scrolled": true
   },
   "outputs": [],
   "source": [
    "df.drop(columns=['nextBuyInDays'], axis=0, inplace=True)\n",
    "col = df.pop(\"nextBuyInWeeks\") # target variable\n",
    "df.insert(len(df.columns), col.name, col)"
   ]
  },
  {
   "cell_type": "markdown",
   "id": "21a3dddf",
   "metadata": {},
   "source": [
    "## Training & Prediction"
   ]
  },
  {
   "cell_type": "markdown",
   "id": "e57002dd",
   "metadata": {},
   "source": [
    "Pipeline needs training method, dataframe and dates to split dataframe in training and test set."
   ]
  },
  {
   "cell_type": "markdown",
   "id": "e357bb23",
   "metadata": {},
   "source": [
    "## XGBoost"
   ]
  },
  {
   "cell_type": "code",
   "execution_count": 9,
   "id": "95faf968",
   "metadata": {
    "scrolled": true
   },
   "outputs": [
    {
     "name": "stdout",
     "output_type": "stream",
     "text": [
      "Splitting dataframe...\n",
      "\n",
      "Fitting model...\n",
      "\n",
      "Plotting feature importance for \"gain\". Do not rely on that.\n",
      "\n",
      "https://towardsdatascience.com/interpretable-machine-learning-with-xgboost-9ec80d148d27\n",
      "\n"
     ]
    },
    {
     "data": {
      "image/png": "[encoded data removed]",
      "text/plain": [
       "<Figure size 432x288 with 1 Axes>"
      ]
     },
     "metadata": {
      "needs_background": "light"
     },
     "output_type": "display_data"
    },
    {
     "name": "stdout",
     "output_type": "stream",
     "text": [
      "Predicting values...\n",
      "\n",
      "\n",
      " XGboost train/test accuracies: 29.956/5.773\n",
      "\n",
      "Executed pipeline.\n",
      "Evaluate with \"evaluate_pred(X, y, y_pred)\"\n",
      "\n",
      "CPU times: total: 10.5 s\n",
      "Wall time: 1.41 s\n"
     ]
    }
   ],
   "source": [
    "%%time\n",
    "pred_train, pred_test, X_train, y_train, X_test, y_test = execute_pipeline(train_xgb, df, [\n",
    "    '2020-06-01', # start train set\n",
    "    '2020-10-31', # end train set\n",
    "    '2020-11-01', # start test set\n",
    "    '2020-11-30'  # end test set\n",
    "])"
   ]
  },
  {
   "cell_type": "markdown",
   "id": "76785623",
   "metadata": {},
   "source": [
    "### Evaluation"
   ]
  },
  {
   "cell_type": "markdown",
   "id": "f34d9b60",
   "metadata": {},
   "source": [
    "#### train set"
   ]
  },
  {
   "cell_type": "code",
   "execution_count": 10,
   "id": "9a7c007b",
   "metadata": {
    "scrolled": false
   },
   "outputs": [
    {
     "data": {
      "text/html": [
       "<div>\n",
       "<style scoped>\n",
       "    .dataframe tbody tr th:only-of-type {\n",
       "        vertical-align: middle;\n",
       "    }\n",
       "\n",
       "    .dataframe tbody tr th {\n",
       "        vertical-align: top;\n",
       "    }\n",
       "\n",
       "    .dataframe thead th {\n",
       "        text-align: right;\n",
       "    }\n",
       "</style>\n",
       "<table border=\"1\" class=\"dataframe\">\n",
       "  <thead>\n",
       "    <tr style=\"text-align: right;\">\n",
       "      <th></th>\n",
       "      <th>userID</th>\n",
       "      <th>itemID</th>\n",
       "      <th>order</th>\n",
       "      <th>brand</th>\n",
       "      <th>feature_1</th>\n",
       "      <th>feature_2</th>\n",
       "      <th>feature_3</th>\n",
       "      <th>feature_4</th>\n",
       "      <th>feature_5</th>\n",
       "      <th>year</th>\n",
       "      <th>month</th>\n",
       "      <th>weekOfYear</th>\n",
       "      <th>nextBuyInWeeks</th>\n",
       "      <th>nextBuyIn_pred</th>\n",
       "    </tr>\n",
       "  </thead>\n",
       "  <tbody>\n",
       "    <tr>\n",
       "      <th>0</th>\n",
       "      <td>4</td>\n",
       "      <td>18860</td>\n",
       "      <td>1</td>\n",
       "      <td>603</td>\n",
       "      <td>10</td>\n",
       "      <td>0</td>\n",
       "      <td>536</td>\n",
       "      <td>3</td>\n",
       "      <td>147</td>\n",
       "      <td>2020</td>\n",
       "      <td>6</td>\n",
       "      <td>23</td>\n",
       "      <td>0</td>\n",
       "      <td>3</td>\n",
       "    </tr>\n",
       "    <tr>\n",
       "      <th>1</th>\n",
       "      <td>4</td>\n",
       "      <td>30779</td>\n",
       "      <td>1</td>\n",
       "      <td>406</td>\n",
       "      <td>10</td>\n",
       "      <td>1</td>\n",
       "      <td>503</td>\n",
       "      <td>3</td>\n",
       "      <td>17</td>\n",
       "      <td>2020</td>\n",
       "      <td>6</td>\n",
       "      <td>23</td>\n",
       "      <td>0</td>\n",
       "      <td>4</td>\n",
       "    </tr>\n",
       "    <tr>\n",
       "      <th>2</th>\n",
       "      <td>20</td>\n",
       "      <td>18613</td>\n",
       "      <td>2</td>\n",
       "      <td>1111</td>\n",
       "      <td>4</td>\n",
       "      <td>3</td>\n",
       "      <td>444</td>\n",
       "      <td>3</td>\n",
       "      <td>11</td>\n",
       "      <td>2020</td>\n",
       "      <td>6</td>\n",
       "      <td>23</td>\n",
       "      <td>0</td>\n",
       "      <td>3</td>\n",
       "    </tr>\n",
       "    <tr>\n",
       "      <th>3</th>\n",
       "      <td>55</td>\n",
       "      <td>9547</td>\n",
       "      <td>1</td>\n",
       "      <td>671</td>\n",
       "      <td>10</td>\n",
       "      <td>0</td>\n",
       "      <td>506</td>\n",
       "      <td>0</td>\n",
       "      <td>17</td>\n",
       "      <td>2020</td>\n",
       "      <td>6</td>\n",
       "      <td>23</td>\n",
       "      <td>0</td>\n",
       "      <td>3</td>\n",
       "    </tr>\n",
       "    <tr>\n",
       "      <th>4</th>\n",
       "      <td>55</td>\n",
       "      <td>10844</td>\n",
       "      <td>1</td>\n",
       "      <td>1180</td>\n",
       "      <td>10</td>\n",
       "      <td>0</td>\n",
       "      <td>192</td>\n",
       "      <td>0</td>\n",
       "      <td>96</td>\n",
       "      <td>2020</td>\n",
       "      <td>6</td>\n",
       "      <td>23</td>\n",
       "      <td>0</td>\n",
       "      <td>1</td>\n",
       "    </tr>\n",
       "    <tr>\n",
       "      <th>5</th>\n",
       "      <td>55</td>\n",
       "      <td>17912</td>\n",
       "      <td>1</td>\n",
       "      <td>342</td>\n",
       "      <td>6</td>\n",
       "      <td>0</td>\n",
       "      <td>190</td>\n",
       "      <td>0</td>\n",
       "      <td>96</td>\n",
       "      <td>2020</td>\n",
       "      <td>6</td>\n",
       "      <td>23</td>\n",
       "      <td>0</td>\n",
       "      <td>1</td>\n",
       "    </tr>\n",
       "    <tr>\n",
       "      <th>6</th>\n",
       "      <td>55</td>\n",
       "      <td>24763</td>\n",
       "      <td>1</td>\n",
       "      <td>186</td>\n",
       "      <td>6</td>\n",
       "      <td>0</td>\n",
       "      <td>207</td>\n",
       "      <td>0</td>\n",
       "      <td>17</td>\n",
       "      <td>2020</td>\n",
       "      <td>6</td>\n",
       "      <td>23</td>\n",
       "      <td>0</td>\n",
       "      <td>1</td>\n",
       "    </tr>\n",
       "    <tr>\n",
       "      <th>7</th>\n",
       "      <td>76</td>\n",
       "      <td>2787</td>\n",
       "      <td>1</td>\n",
       "      <td>1324</td>\n",
       "      <td>10</td>\n",
       "      <td>0</td>\n",
       "      <td>421</td>\n",
       "      <td>3</td>\n",
       "      <td>3</td>\n",
       "      <td>2020</td>\n",
       "      <td>6</td>\n",
       "      <td>23</td>\n",
       "      <td>0</td>\n",
       "      <td>4</td>\n",
       "    </tr>\n",
       "    <tr>\n",
       "      <th>8</th>\n",
       "      <td>76</td>\n",
       "      <td>23050</td>\n",
       "      <td>1</td>\n",
       "      <td>1411</td>\n",
       "      <td>4</td>\n",
       "      <td>0</td>\n",
       "      <td>22</td>\n",
       "      <td>0</td>\n",
       "      <td>151</td>\n",
       "      <td>2020</td>\n",
       "      <td>6</td>\n",
       "      <td>23</td>\n",
       "      <td>24</td>\n",
       "      <td>5</td>\n",
       "    </tr>\n",
       "    <tr>\n",
       "      <th>9</th>\n",
       "      <td>76</td>\n",
       "      <td>26645</td>\n",
       "      <td>1</td>\n",
       "      <td>648</td>\n",
       "      <td>10</td>\n",
       "      <td>0</td>\n",
       "      <td>358</td>\n",
       "      <td>3</td>\n",
       "      <td>24</td>\n",
       "      <td>2020</td>\n",
       "      <td>6</td>\n",
       "      <td>23</td>\n",
       "      <td>0</td>\n",
       "      <td>1</td>\n",
       "    </tr>\n",
       "  </tbody>\n",
       "</table>\n",
       "</div>"
      ],
      "text/plain": [
       "   userID  itemID  order  brand  feature_1  feature_2  feature_3  feature_4  \\\n",
       "0       4   18860      1    603         10          0        536          3   \n",
       "1       4   30779      1    406         10          1        503          3   \n",
       "2      20   18613      2   1111          4          3        444          3   \n",
       "3      55    9547      1    671         10          0        506          0   \n",
       "4      55   10844      1   1180         10          0        192          0   \n",
       "5      55   17912      1    342          6          0        190          0   \n",
       "6      55   24763      1    186          6          0        207          0   \n",
       "7      76    2787      1   1324         10          0        421          3   \n",
       "8      76   23050      1   1411          4          0         22          0   \n",
       "9      76   26645      1    648         10          0        358          3   \n",
       "\n",
       "   feature_5  year  month  weekOfYear  nextBuyInWeeks  nextBuyIn_pred  \n",
       "0        147  2020      6          23               0               3  \n",
       "1         17  2020      6          23               0               4  \n",
       "2         11  2020      6          23               0               3  \n",
       "3         17  2020      6          23               0               3  \n",
       "4         96  2020      6          23               0               1  \n",
       "5         96  2020      6          23               0               1  \n",
       "6         17  2020      6          23               0               1  \n",
       "7          3  2020      6          23               0               4  \n",
       "8        151  2020      6          23              24               5  \n",
       "9         24  2020      6          23               0               1  "
      ]
     },
     "execution_count": 10,
     "metadata": {},
     "output_type": "execute_result"
    }
   ],
   "source": [
    "df_eval_train = evaluate_pred(X_train, y_train, pred_train)\n",
    "df_eval_train.head(10)"
   ]
  },
  {
   "cell_type": "markdown",
   "id": "af92e914",
   "metadata": {},
   "source": [
    "#### test set"
   ]
  },
  {
   "cell_type": "code",
   "execution_count": 11,
   "id": "efac0b02",
   "metadata": {
    "scrolled": false
   },
   "outputs": [],
   "source": [
    "df_eval_test = evaluate_pred(X_test, y_test, pred_test)"
   ]
  },
  {
   "cell_type": "code",
   "execution_count": 12,
   "id": "b03e1af3",
   "metadata": {
    "scrolled": true
   },
   "outputs": [],
   "source": [
    "#df_eval_train.loc[(df_eval_train.itemID == 751) ]"
   ]
  },
  {
   "cell_type": "code",
   "execution_count": 13,
   "id": "a7f0813e",
   "metadata": {},
   "outputs": [],
   "source": [
    "#df_eval_test.loc[(df_eval_test.userID == 69) & (df_eval_test.itemID == 751) ]"
   ]
  },
  {
   "cell_type": "code",
   "execution_count": 14,
   "id": "644a5913",
   "metadata": {
    "scrolled": true
   },
   "outputs": [],
   "source": [
    "#df_eval_test.loc[(df_eval_test.userID == 3599) & (df_eval_test.itemID == 26162) ]"
   ]
  },
  {
   "cell_type": "code",
   "execution_count": 15,
   "id": "dc3986b5",
   "metadata": {},
   "outputs": [],
   "source": [
    "#df_eval_test.loc[(df_eval_test.nextBuyInWeeks == df_eval_test.nextBuyIn_pred) & (df_eval_test.nextBuyInWeeks != 0)]"
   ]
  },
  {
   "cell_type": "code",
   "execution_count": 16,
   "id": "6082215e",
   "metadata": {},
   "outputs": [
    {
     "name": "stdout",
     "output_type": "stream",
     "text": [
      "row count of set:\t\t\t\t\t 130779\n",
      "rows where label is not 0:\t\t\t\t 16091 \t (12.304 % of all rows in set)\n",
      "rows where label was predicted correctly AND not 0:\t 552 \t (3.430 % of rows where label is actually 0)\n"
     ]
    }
   ],
   "source": [
    "rowcount = len(df_eval_test)\n",
    "should = len(df_eval_test.loc[(df_eval_test.nextBuyInWeeks != 0)])\n",
    "is_ = len(df_eval_test.loc[(df_eval_test.nextBuyInWeeks != 0) & (df_eval_test.nextBuyInWeeks == df_eval_test.nextBuyIn_pred)]) \n",
    "\n",
    "print(f'row count of set:\\t\\t\\t\\t\\t {rowcount}')\n",
    "print(f'rows where label is not 0:\\t\\t\\t\\t {should} \\t ({should/rowcount*100:.3f} % of all rows in set)')\n",
    "print(f'rows where label was predicted correctly AND not 0:\\t {is_} \\t ({is_/should*100:.3f} % of rows where label is actually 0)')"
   ]
  },
  {
   "cell_type": "markdown",
   "id": "49edaf3d",
   "metadata": {},
   "source": [
    "---"
   ]
  },
  {
   "cell_type": "markdown",
   "id": "394b1331",
   "metadata": {},
   "source": [
    "## Decision Tree"
   ]
  },
  {
   "cell_type": "code",
   "execution_count": 17,
   "id": "b41be43d",
   "metadata": {
    "scrolled": true
   },
   "outputs": [
    {
     "name": "stdout",
     "output_type": "stream",
     "text": [
      "Splitting dataframe...\n",
      "\n",
      "Fitting model...\n",
      "\n",
      "Plotting feature importance for \"gain\". Do not rely on that.\n",
      "\n",
      "https://towardsdatascience.com/interpretable-machine-learning-with-xgboost-9ec80d148d27\n",
      "\n",
      "Predicting values...\n",
      "\n",
      "\n",
      " XGboost train/test accuracies: 0.020/17.665\n",
      "\n",
      "Executed pipeline.\n",
      "Evaluate with \"evaluate_pred(X, y, y_pred)\"\n",
      "\n",
      "CPU times: total: 3.34 s\n",
      "Wall time: 3.34 s\n"
     ]
    }
   ],
   "source": [
    "%%time\n",
    "#dtc\n",
    "pred_train, pred_test, X_train, y_train, X_test, y_test = execute_pipeline(train_dtc, df, [\n",
    "    '2020-06-01', # start train set\n",
    "    '2020-10-31', # end train set\n",
    "    '2020-11-01', # start test set\n",
    "    '2020-11-30'  # end test set\n",
    "])"
   ]
  },
  {
   "cell_type": "markdown",
   "id": "77a5b7c8",
   "metadata": {},
   "source": [
    "### Evaluation"
   ]
  },
  {
   "cell_type": "markdown",
   "id": "8c038f94",
   "metadata": {},
   "source": [
    "#### train set"
   ]
  },
  {
   "cell_type": "code",
   "execution_count": 18,
   "id": "fe11dd52",
   "metadata": {
    "scrolled": false
   },
   "outputs": [],
   "source": [
    "df_eval_train = evaluate_pred(X_train, y_train, pred_train)"
   ]
  },
  {
   "cell_type": "markdown",
   "id": "672a8888",
   "metadata": {},
   "source": [
    "#### test set"
   ]
  },
  {
   "cell_type": "code",
   "execution_count": 19,
   "id": "ff3a3876",
   "metadata": {
    "scrolled": false
   },
   "outputs": [],
   "source": [
    "df_eval_test = evaluate_pred(X_test, y_test, pred_test)"
   ]
  },
  {
   "cell_type": "code",
   "execution_count": 20,
   "id": "af791866",
   "metadata": {},
   "outputs": [
    {
     "name": "stdout",
     "output_type": "stream",
     "text": [
      "row count of set:\t\t\t\t\t 130779\n",
      "rows where label is not 0:\t\t\t\t 16091 \t (12.304 % of all rows in set)\n",
      "rows where label was predicted correctly AND not 0:\t 516 \t (3.207 % of rows where label is actually 0)\n"
     ]
    }
   ],
   "source": [
    "rowcount = len(df_eval_test)\n",
    "should = len(df_eval_test.loc[(df_eval_test.nextBuyInWeeks != 0)])\n",
    "is_ = len(df_eval_test.loc[(df_eval_test.nextBuyInWeeks != 0) & (df_eval_test.nextBuyInWeeks == df_eval_test.nextBuyIn_pred)]) \n",
    "\n",
    "print(f'row count of set:\\t\\t\\t\\t\\t {rowcount}')\n",
    "print(f'rows where label is not 0:\\t\\t\\t\\t {should} \\t ({should/rowcount*100:.3f} % of all rows in set)')\n",
    "print(f'rows where label was predicted correctly AND not 0:\\t {is_} \\t ({is_/should*100:.3f} % of rows where label is actually 0)')"
   ]
  },
  {
   "cell_type": "markdown",
   "id": "d5554060",
   "metadata": {},
   "source": [
    "## Hyperparameter Tuning"
   ]
  },
  {
   "cell_type": "code",
   "execution_count": 36,
   "id": "e6ad95ba",
   "metadata": {},
   "outputs": [
    {
     "name": "stdout",
     "output_type": "stream",
     "text": [
      "Splitting dataframe...\n",
      "\n"
     ]
    }
   ],
   "source": [
    "b = [\n",
    "    '2020-06-01', # start train set\n",
    "    '2020-10-31', # end train set\n",
    "    '2020-11-01', # start test set\n",
    "    '2020-11-30'  # end test set\n",
    "    ]\n",
    "X_train, y_train, X_test, y_test = dt_train_test_split(df, b[0], b[1], b[2], b[3])"
   ]
  },
  {
   "cell_type": "code",
   "execution_count": 29,
   "id": "4c4e54d5",
   "metadata": {},
   "outputs": [],
   "source": [
    "import hyperopt\n",
    "from hyperopt import STATUS_OK, Trials, fmin, hp, tpe\n",
    "\n",
    "space = {\n",
    "        'eta': hp.quniform('eta', 0.01, 0.5, 0.01),\n",
    "        'max_depth': hp.quniform('max_depth', 3, 5, 1),\n",
    "        'gamma': hp.uniform ('gamma', 1,9),\n",
    "        'reg_alpha' : hp.quniform('reg_alpha', 40, 180, 1),\n",
    "        'reg_lambda' : hp.uniform('reg_lambda', 0, 1),\n",
    "        'colsample_bytree' : hp.uniform('colsample_bytree', 0.5, 1),\n",
    "        'min_child_weight' : hp.quniform('min_child_weight', 0, 10, 1),\n",
    "        'n_estimators': 1000,\n",
    "        'seed': 0\n",
    "    }"
   ]
  },
  {
   "cell_type": "code",
   "execution_count": 40,
   "id": "b371ce14",
   "metadata": {},
   "outputs": [],
   "source": [
    "def objective(space):\n",
    "    reg=xgb.XGBRegressor(tree_method='gpu_hist', gpu_id=0,\n",
    "                    eta = space['eta'],\n",
    "                    max_depth = int(space['max_depth']), \n",
    "                    gamma = space['gamma'],\n",
    "                    reg_alpha = int(space['reg_alpha']),\n",
    "                    min_child_weight=int(space['min_child_weight']),\n",
    "                    colsample_bytree=int(space['colsample_bytree']),\n",
    "                    n_estimators = space['n_estimators'])\n",
    "    \n",
    "    evaluation = [( X_train, y_train), ( X_test, y_test)]\n",
    "    \n",
    "    reg.fit(X_train, y_train,\n",
    "            eval_set=evaluation, eval_metric=\"rmse\",\n",
    "            early_stopping_rounds=10,verbose=False)\n",
    "    \n",
    "\n",
    "    pred = reg.predict(X_test)\n",
    "    loss = mean_squared_error(y_test, pred)\n",
    "    #print (\"LOSS:\", loss)\n",
    "    return {'loss': loss, 'status': STATUS_OK }"
   ]
  },
  {
   "cell_type": "code",
   "execution_count": 41,
   "id": "8b675577",
   "metadata": {
    "scrolled": true
   },
   "outputs": [
    {
     "name": "stdout",
     "output_type": "stream",
     "text": [
      "100%|█████████████████████████████████████████████| 1000/1000 [05:27<00:00,  3.05trial/s, best loss: 5.416866779327393]\n"
     ]
    }
   ],
   "source": [
    "trials = Trials()\n",
    "\n",
    "best_hyperparams = fmin(fn = objective,\n",
    "                        space = space,\n",
    "                        algo = tpe.suggest,\n",
    "                        max_evals = 1000,\n",
    "                        trials = trials)"
   ]
  },
  {
   "cell_type": "code",
   "execution_count": 43,
   "id": "86202ef4",
   "metadata": {},
   "outputs": [
    {
     "name": "stdout",
     "output_type": "stream",
     "text": [
      "The best hyperparameters are :  \n",
      "\n",
      "{'colsample_bytree': 0.7567134474205279, 'eta': 0.05, 'gamma': 2.8721332723619244, 'max_depth': 5.0, 'min_child_weight': 8.0, 'reg_alpha': 171.0, 'reg_lambda': 0.32452326405309345}\n"
     ]
    }
   ],
   "source": [
    "print(\"The best hyperparameters are : \",\"\\n\")\n",
    "print(best_hyperparams)"
   ]
  },
  {
   "cell_type": "code",
   "execution_count": 44,
   "id": "7b05f754",
   "metadata": {},
   "outputs": [
    {
     "data": {
      "text/plain": [
       "dict"
      ]
     },
     "execution_count": 44,
     "metadata": {},
     "output_type": "execute_result"
    }
   ],
   "source": [
    "type(best_hyperparams)"
   ]
  },
  {
   "cell_type": "markdown",
   "id": "90073629",
   "metadata": {},
   "source": [
    "## XGBoost mit optimierten Hyperparametern"
   ]
  },
  {
   "cell_type": "code",
   "execution_count": 54,
   "id": "4b19f644",
   "metadata": {
    "scrolled": true
   },
   "outputs": [
    {
     "name": "stdout",
     "output_type": "stream",
     "text": [
      "Splitting dataframe...\n",
      "\n",
      "Fitting model...\n",
      "\n"
     ]
    },
    {
     "ename": "NameError",
     "evalue": "name 'fitted_model' is not defined",
     "output_type": "error",
     "traceback": [
      "\u001b[1;31m---------------------------------------------------------------------------\u001b[0m",
      "\u001b[1;31mNameError\u001b[0m                                 Traceback (most recent call last)",
      "File \u001b[1;32m<timed exec>:1\u001b[0m, in \u001b[0;36m<module>\u001b[1;34m\u001b[0m\n",
      "Input \u001b[1;32mIn [53]\u001b[0m, in \u001b[0;36mexecute_pipeline\u001b[1;34m(train_method, df, list_of_four_df_boundaries)\u001b[0m\n\u001b[0;32m    187\u001b[0m X_train, y_train, X_test, y_test \u001b[38;5;241m=\u001b[39m dt_train_test_split(df, b[\u001b[38;5;241m0\u001b[39m], b[\u001b[38;5;241m1\u001b[39m], b[\u001b[38;5;241m2\u001b[39m], b[\u001b[38;5;241m3\u001b[39m])\n\u001b[0;32m    189\u001b[0m \u001b[38;5;66;03m#train model\u001b[39;00m\n\u001b[1;32m--> 190\u001b[0m model \u001b[38;5;241m=\u001b[39m \u001b[43mtrain_method\u001b[49m\u001b[43m(\u001b[49m\u001b[43mX_train\u001b[49m\u001b[43m,\u001b[49m\u001b[43m \u001b[49m\u001b[43my_train\u001b[49m\u001b[43m)\u001b[49m    \n\u001b[0;32m    192\u001b[0m \u001b[38;5;66;03m# make predictions\u001b[39;00m\n\u001b[0;32m    193\u001b[0m pred_train, pred_test \u001b[38;5;241m=\u001b[39m predict_values(model, X_train, y_train, X_test, y_test)\n",
      "Input \u001b[1;32mIn [53]\u001b[0m, in \u001b[0;36mtrain_xgb_bestHyper\u001b[1;34m(X, y)\u001b[0m\n\u001b[0;32m     97\u001b[0m model \u001b[38;5;241m=\u001b[39m XGBRegressor(tree_method\u001b[38;5;241m=\u001b[39m\u001b[38;5;124m'\u001b[39m\u001b[38;5;124mgpu_hist\u001b[39m\u001b[38;5;124m'\u001b[39m, gpu_id\u001b[38;5;241m=\u001b[39m\u001b[38;5;241m0\u001b[39m,\n\u001b[0;32m     98\u001b[0m                 eta \u001b[38;5;241m=\u001b[39m space[\u001b[38;5;124m'\u001b[39m\u001b[38;5;124meta\u001b[39m\u001b[38;5;124m'\u001b[39m],\n\u001b[0;32m     99\u001b[0m                 max_depth \u001b[38;5;241m=\u001b[39m \u001b[38;5;28mint\u001b[39m(space[\u001b[38;5;124m'\u001b[39m\u001b[38;5;124mmax_depth\u001b[39m\u001b[38;5;124m'\u001b[39m]), \n\u001b[1;32m   (...)\u001b[0m\n\u001b[0;32m    102\u001b[0m                 min_child_weight\u001b[38;5;241m=\u001b[39m\u001b[38;5;28mint\u001b[39m(space[\u001b[38;5;124m'\u001b[39m\u001b[38;5;124mmin_child_weight\u001b[39m\u001b[38;5;124m'\u001b[39m]),\n\u001b[0;32m    103\u001b[0m                 colsample_bytree\u001b[38;5;241m=\u001b[39m\u001b[38;5;28mint\u001b[39m(space[\u001b[38;5;124m'\u001b[39m\u001b[38;5;124mcolsample_bytree\u001b[39m\u001b[38;5;124m'\u001b[39m]))\n\u001b[0;32m    107\u001b[0m evaluation \u001b[38;5;241m=\u001b[39m [( X_train, y_train), ( X_test, y_test)]\n\u001b[1;32m--> 109\u001b[0m \u001b[43mfitted_model\u001b[49m\u001b[38;5;241m.\u001b[39mfit(X_train, y_train,\n\u001b[0;32m    110\u001b[0m         eval_set\u001b[38;5;241m=\u001b[39mevaluation, eval_metric\u001b[38;5;241m=\u001b[39m\u001b[38;5;124m\"\u001b[39m\u001b[38;5;124mrmse\u001b[39m\u001b[38;5;124m\"\u001b[39m,\n\u001b[0;32m    111\u001b[0m         early_stopping_rounds\u001b[38;5;241m=\u001b[39m\u001b[38;5;241m10\u001b[39m,verbose\u001b[38;5;241m=\u001b[39m\u001b[38;5;28;01mFalse\u001b[39;00m)\n\u001b[0;32m    113\u001b[0m \u001b[38;5;28mprint\u001b[39m(\u001b[38;5;124m'\u001b[39m\u001b[38;5;124mPlotting feature importance for \u001b[39m\u001b[38;5;124m\"\u001b[39m\u001b[38;5;124mgain\u001b[39m\u001b[38;5;124m\"\u001b[39m\u001b[38;5;124m. Do not rely on that.\u001b[39m\u001b[38;5;130;01m\\n\u001b[39;00m\u001b[38;5;124m'\u001b[39m)\n\u001b[0;32m    114\u001b[0m \u001b[38;5;28mprint\u001b[39m(\u001b[38;5;124m'\u001b[39m\u001b[38;5;124mhttps://towardsdatascience.com/interpretable-machine-learning-with-xgboost-9ec80d148d27\u001b[39m\u001b[38;5;130;01m\\n\u001b[39;00m\u001b[38;5;124m'\u001b[39m)\n",
      "\u001b[1;31mNameError\u001b[0m: name 'fitted_model' is not defined"
     ]
    }
   ],
   "source": [
    "%%time\n",
    "pred_train, pred_test, X_train, y_train, X_test, y_test = execute_pipeline(train_xgb_bestHyper, df, [\n",
    "    '2020-06-01', # start train set\n",
    "    '2020-10-31', # end train set\n",
    "    '2020-11-01', # start test set\n",
    "    '2020-11-30'  # end test set\n",
    "])"
   ]
  },
  {
   "cell_type": "markdown",
   "id": "099976f7",
   "metadata": {},
   "source": [
    "### Evaluation"
   ]
  },
  {
   "cell_type": "markdown",
   "id": "3a5c3469",
   "metadata": {},
   "source": [
    "#### train set"
   ]
  },
  {
   "cell_type": "code",
   "execution_count": 18,
   "id": "f138520a",
   "metadata": {
    "scrolled": false
   },
   "outputs": [],
   "source": [
    "df_eval_train = evaluate_pred(X_train, y_train, pred_train)"
   ]
  },
  {
   "cell_type": "markdown",
   "id": "d1374803",
   "metadata": {},
   "source": [
    "#### test set"
   ]
  },
  {
   "cell_type": "code",
   "execution_count": 19,
   "id": "d7c9fb7e",
   "metadata": {
    "scrolled": false
   },
   "outputs": [],
   "source": [
    "df_eval_test = evaluate_pred(X_test, y_test, pred_test)"
   ]
  },
  {
   "cell_type": "code",
   "execution_count": 20,
   "id": "ee8f40e1",
   "metadata": {},
   "outputs": [
    {
     "name": "stdout",
     "output_type": "stream",
     "text": [
      "row count of set:\t\t\t\t\t 130779\n",
      "rows where label is not 0:\t\t\t\t 16091 \t (12.304 % of all rows in set)\n",
      "rows where label was predicted correctly AND not 0:\t 516 \t (3.207 % of rows where label is actually 0)\n"
     ]
    }
   ],
   "source": [
    "rowcount = len(df_eval_test)\n",
    "should = len(df_eval_test.loc[(df_eval_test.nextBuyInWeeks != 0)])\n",
    "is_ = len(df_eval_test.loc[(df_eval_test.nextBuyInWeeks != 0) & (df_eval_test.nextBuyInWeeks == df_eval_test.nextBuyIn_pred)]) \n",
    "\n",
    "print(f'row count of set:\\t\\t\\t\\t\\t {rowcount}')\n",
    "print(f'rows where label is not 0:\\t\\t\\t\\t {should} \\t ({should/rowcount*100:.3f} % of all rows in set)')\n",
    "print(f'rows where label was predicted correctly AND not 0:\\t {is_} \\t ({is_/should*100:.3f} % of rows where label is actually 0)')"
   ]
  },
  {
   "cell_type": "code",
   "execution_count": null,
   "id": "fd7a191c",
   "metadata": {},
   "outputs": [],
   "source": []
  },
  {
   "cell_type": "code",
   "execution_count": null,
   "id": "b7703225",
   "metadata": {},
   "outputs": [],
   "source": []
  },
  {
   "cell_type": "code",
   "execution_count": null,
   "id": "216d0724",
   "metadata": {},
   "outputs": [],
   "source": []
  },
  {
   "cell_type": "code",
   "execution_count": null,
   "id": "5f004589",
   "metadata": {},
   "outputs": [],
   "source": []
  },
  {
   "cell_type": "code",
   "execution_count": null,
   "id": "b1a9693e",
   "metadata": {},
   "outputs": [],
   "source": []
  },
  {
   "cell_type": "code",
   "execution_count": null,
   "id": "14a388fd",
   "metadata": {},
   "outputs": [],
   "source": []
  },
  {
   "cell_type": "code",
   "execution_count": null,
   "id": "0a7e8fe5",
   "metadata": {},
   "outputs": [],
   "source": []
  },
  {
   "cell_type": "code",
   "execution_count": null,
   "id": "ab4931b3",
   "metadata": {},
   "outputs": [],
   "source": []
  },
  {
   "cell_type": "code",
   "execution_count": null,
   "id": "b1752732",
   "metadata": {},
   "outputs": [],
   "source": []
  },
  {
   "cell_type": "raw",
   "id": "ac9eec8b",
   "metadata": {},
   "source": [
    "Pipeline needs training method, dataframe and dates to split dataframe in training and test set."
   ]
  },
  {
   "cell_type": "raw",
   "id": "eaf9891d",
   "metadata": {
    "scrolled": false
   },
   "source": [
    "%%time\n",
    "pred_train, pred_test, X_train, y_train, X_test, y_test = execute_pipeline(train_xgb, df, [\n",
    "    '2020-06-01', # start train set\n",
    "    '2020-10-31', # end train set\n",
    "    '2020-11-01', # start test set\n",
    "    '2020-11-30'  # end test set\n",
    "])"
   ]
  },
  {
   "cell_type": "raw",
   "id": "22b0514e",
   "metadata": {},
   "source": [
    "model_train_precision = precision_score(y_train, pred_train, average='macro')\n",
    "model_test_precision = precision_score(y_test, pred_test, average='macro')\n",
    "model_train_precision, model_test_precision"
   ]
  },
  {
   "cell_type": "raw",
   "id": "149a98ed",
   "metadata": {},
   "source": [
    "model_train_precision = balanced_accuracy_score(y_train, pred_train)\n",
    "model_test_precision = balanced_accuracy_score(y_test, pred_test)\n",
    "model_train_precision, model_test_precision"
   ]
  },
  {
   "cell_type": "raw",
   "id": "ed81f26c",
   "metadata": {},
   "source": [
    "## Evaluation"
   ]
  },
  {
   "cell_type": "raw",
   "id": "9e01bca7",
   "metadata": {},
   "source": [
    "### train set"
   ]
  },
  {
   "cell_type": "raw",
   "id": "8afab6ef",
   "metadata": {
    "scrolled": false
   },
   "source": [
    "df_eval_train = evaluate_pred(X_train, y_train, pred_train)\n",
    "df_eval_train.head(10)"
   ]
  },
  {
   "cell_type": "raw",
   "id": "71c5eb19",
   "metadata": {},
   "source": [
    "### test set"
   ]
  },
  {
   "cell_type": "raw",
   "id": "6f3912fc",
   "metadata": {},
   "source": [
    "df_eval_test = evaluate_pred(X_test, y_test, pred_test)\n",
    "df_eval_test.head(10)"
   ]
  },
  {
   "cell_type": "raw",
   "id": "31120472",
   "metadata": {},
   "source": [
    "rowcount = len(df_eval_test)\n",
    "should = len(df_eval_test.loc[(df_eval_test.nextBuyInDays != 0)])\n",
    "is_ = len(df_eval_test.loc[(df_eval_test.nextBuyInDays != 0) & (df_eval_test.nextBuyInDays == df_eval_test.nextBuyIn_pred)]) \n",
    "\n",
    "print(f'row count of set:\\t\\t\\t\\t\\t {rowcount}')\n",
    "print(f'rows where label is not 0:\\t\\t\\t\\t {should} \\t ({should/rowcount*100:.3f} % of all rows in set)')\n",
    "print(f'rows where label was predicted correctly AND not 0:\\t {is_} \\t ({is_/should*100:.3f} % of rows where label is not 0)')"
   ]
  }
 ],
 "metadata": {
  "kernelspec": {
   "display_name": "Python 3 (ipykernel)",
   "language": "python",
   "name": "python3"
  },
  "language_info": {
   "codemirror_mode": {
    "name": "ipython",
    "version": 3
   },
   "file_extension": ".py",
   "mimetype": "text/x-python",
   "name": "python",
   "nbconvert_exporter": "python",
   "pygments_lexer": "ipython3",
   "version": "3.10.4"
  }
 },
 "nbformat": 4,
 "nbformat_minor": 5
}
